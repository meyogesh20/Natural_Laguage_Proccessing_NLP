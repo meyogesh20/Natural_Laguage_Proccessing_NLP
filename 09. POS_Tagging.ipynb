{
 "cells": [
  {
   "cell_type": "markdown",
   "id": "60376974-29cd-45d4-9de2-ddddb09a67df",
   "metadata": {},
   "source": [
    "# 🧠 spaCy POS Tagging - Beginner to Advanced Guide\n",
    "\n",
    "spaCy provides a robust and efficient way to perform Part-of-Speech tagging, a key NLP task that identifies the grammatical role of each word in a sentence (e.g., noun, verb, adjective).\n",
    "\n",
    "---\n",
    "\n",
    "## 📦 Step 1: Install and Import spaCy\n",
    "\n",
    "```python\n",
    "!pip install spacy\n",
    "import spacy\n",
    "\n",
    "# Load English core model\n",
    "nlp = spacy.load(\"en_core_web_sm\")\n"
   ]
  },
  {
   "cell_type": "markdown",
   "id": "20f4cefe-81d0-47f2-9345-12807ab53fe7",
   "metadata": {},
   "source": [
    "# 🧠 Step 2: Understanding POS Tags with Examples\n",
    "\n",
    "| POS Tag | Description         | Example Word |\n",
    "| ------- | ------------------- | ------------ |\n",
    "| NOUN    | Noun                | dog, car     |\n",
    "| VERB    | Verb                | run, is      |\n",
    "| ADJ     | Adjective           | beautiful    |\n",
    "| ADV     | Adverb              | quickly      |\n",
    "| PRON    | Pronoun             | she, it      |\n",
    "| DET     | Determiner          | the, a       |\n",
    "| ADP     | Adposition (prep.)  | in, on       |\n",
    "| AUX     | Auxiliary verb      | is, was      |\n",
    "| CCONJ   | Coordinating conj.  | and, but     |\n",
    "| SCONJ   | Subordinating conj. | although     |\n",
    "| PART    | Particle            | not, to      |\n",
    "| INTJ    | Interjection        | wow, ouch    |\n",
    "| NUM     | Number              | one, 50      |\n",
    "| PUNCT   | Punctuation         | ., ?         |\n",
    "| PROPN   | Proper Noun         | India, John  |\n",
    "| SYM     | Symbol              | \\$, %, =     |\n",
    "| X       | Other/Unknown       | ugh, hmm     |\n"
   ]
  },
  {
   "cell_type": "markdown",
   "id": "e288de00-6f1c-4a43-bbb7-6124250bab4e",
   "metadata": {},
   "source": [
    "# 📝 Step 3: Apply POS Tagging\n",
    "### 📚 POS vs TAG\n",
    "- <code>.pos_</code>: Coarse-grained POS tag (universal POS)\n",
    "- <code>.tag_</code>: Fine-grained POS tag (detailed, language-specific)\n",
    "- <code>spacy.explain(tag)</code>: Gives description of tag"
   ]
  },
  {
   "cell_type": "code",
   "execution_count": 44,
   "id": "e05795bf-f5a2-4696-a968-915a22c68b5a",
   "metadata": {},
   "outputs": [
    {
     "name": "stdout",
     "output_type": "stream",
     "text": [
      "Apple        | PROPN      | NNP    | noun, proper singular\n",
      "is           | AUX        | VBZ    | verb, 3rd person singular present\n",
      "looking      | VERB       | VBG    | verb, gerund or present participle\n",
      "at           | ADP        | IN     | conjunction, subordinating or preposition\n",
      "buying       | VERB       | VBG    | verb, gerund or present participle\n",
      "a            | DET        | DT     | determiner\n",
      "startup      | NOUN       | NN     | noun, singular or mass\n",
      "in           | ADP        | IN     | conjunction, subordinating or preposition\n",
      "the          | DET        | DT     | determiner\n",
      "UK           | PROPN      | NNP    | noun, proper singular\n",
      "for          | ADP        | IN     | conjunction, subordinating or preposition\n",
      "$            | SYM        | $      | symbol, currency\n",
      "1            | NUM        | CD     | cardinal number\n",
      "billion      | NUM        | CD     | cardinal number\n",
      ".            | PUNCT      | .      | punctuation mark, sentence closer\n"
     ]
    }
   ],
   "source": [
    "# import spacy\n",
    "\n",
    "# # Load English core model\n",
    "# nlp = spacy.load(\"en_core_web_sm\")\n",
    "\n",
    "text = \"Apple is looking at buying a startup in the UK for $1 billion.\"\n",
    "doc = nlp(text)\n",
    "\n",
    "# Display token and POS tags\n",
    "for token in doc:\n",
    "    print(f\"{token.text:<12} | {token.pos_:<10} | {token.tag_:<6} | {spacy.explain(token.tag_)}\")\n"
   ]
  },
  {
   "cell_type": "markdown",
   "id": "7b21a560-1d9c-411f-b694-d262fb9c7614",
   "metadata": {},
   "source": [
    "# Step 4: Visualize POS Tags with displaCy"
   ]
  },
  {
   "cell_type": "code",
   "execution_count": 15,
   "id": "b54276cd-f4b0-4f4d-874c-1799b3d9341a",
   "metadata": {},
   "outputs": [
    {
     "data": {
      "text/html": [
       "<span class=\"tex2jax_ignore\"><svg xmlns=\"http://www.w3.org/2000/svg\" xmlns:xlink=\"http://www.w3.org/1999/xlink\" xml:lang=\"en\" id=\"03dfe699c28d49a0a7e22ff9c307f409-0\" class=\"displacy\" width=\"2150\" height=\"362.0\" direction=\"ltr\" style=\"max-width: none; height: 362.0px; color: blue; background: #ffffff; font-family: Arial; direction: ltr\">\n",
       "<text class=\"displacy-token\" fill=\"currentColor\" text-anchor=\"middle\" y=\"272.0\">\n",
       "    <tspan class=\"displacy-word\" fill=\"currentColor\" x=\"50\">Apple</tspan>\n",
       "    <tspan class=\"displacy-tag\" dy=\"2em\" fill=\"currentColor\" x=\"50\">PROPN</tspan>\n",
       "</text>\n",
       "\n",
       "<text class=\"displacy-token\" fill=\"currentColor\" text-anchor=\"middle\" y=\"272.0\">\n",
       "    <tspan class=\"displacy-word\" fill=\"currentColor\" x=\"200\">is</tspan>\n",
       "    <tspan class=\"displacy-tag\" dy=\"2em\" fill=\"currentColor\" x=\"200\">AUX</tspan>\n",
       "</text>\n",
       "\n",
       "<text class=\"displacy-token\" fill=\"currentColor\" text-anchor=\"middle\" y=\"272.0\">\n",
       "    <tspan class=\"displacy-word\" fill=\"currentColor\" x=\"350\">looking</tspan>\n",
       "    <tspan class=\"displacy-tag\" dy=\"2em\" fill=\"currentColor\" x=\"350\">VERB</tspan>\n",
       "</text>\n",
       "\n",
       "<text class=\"displacy-token\" fill=\"currentColor\" text-anchor=\"middle\" y=\"272.0\">\n",
       "    <tspan class=\"displacy-word\" fill=\"currentColor\" x=\"500\">at</tspan>\n",
       "    <tspan class=\"displacy-tag\" dy=\"2em\" fill=\"currentColor\" x=\"500\">ADP</tspan>\n",
       "</text>\n",
       "\n",
       "<text class=\"displacy-token\" fill=\"currentColor\" text-anchor=\"middle\" y=\"272.0\">\n",
       "    <tspan class=\"displacy-word\" fill=\"currentColor\" x=\"650\">buying</tspan>\n",
       "    <tspan class=\"displacy-tag\" dy=\"2em\" fill=\"currentColor\" x=\"650\">VERB</tspan>\n",
       "</text>\n",
       "\n",
       "<text class=\"displacy-token\" fill=\"currentColor\" text-anchor=\"middle\" y=\"272.0\">\n",
       "    <tspan class=\"displacy-word\" fill=\"currentColor\" x=\"800\">a</tspan>\n",
       "    <tspan class=\"displacy-tag\" dy=\"2em\" fill=\"currentColor\" x=\"800\">DET</tspan>\n",
       "</text>\n",
       "\n",
       "<text class=\"displacy-token\" fill=\"currentColor\" text-anchor=\"middle\" y=\"272.0\">\n",
       "    <tspan class=\"displacy-word\" fill=\"currentColor\" x=\"950\">startup</tspan>\n",
       "    <tspan class=\"displacy-tag\" dy=\"2em\" fill=\"currentColor\" x=\"950\">NOUN</tspan>\n",
       "</text>\n",
       "\n",
       "<text class=\"displacy-token\" fill=\"currentColor\" text-anchor=\"middle\" y=\"272.0\">\n",
       "    <tspan class=\"displacy-word\" fill=\"currentColor\" x=\"1100\">in</tspan>\n",
       "    <tspan class=\"displacy-tag\" dy=\"2em\" fill=\"currentColor\" x=\"1100\">ADP</tspan>\n",
       "</text>\n",
       "\n",
       "<text class=\"displacy-token\" fill=\"currentColor\" text-anchor=\"middle\" y=\"272.0\">\n",
       "    <tspan class=\"displacy-word\" fill=\"currentColor\" x=\"1250\">the</tspan>\n",
       "    <tspan class=\"displacy-tag\" dy=\"2em\" fill=\"currentColor\" x=\"1250\">DET</tspan>\n",
       "</text>\n",
       "\n",
       "<text class=\"displacy-token\" fill=\"currentColor\" text-anchor=\"middle\" y=\"272.0\">\n",
       "    <tspan class=\"displacy-word\" fill=\"currentColor\" x=\"1400\">UK</tspan>\n",
       "    <tspan class=\"displacy-tag\" dy=\"2em\" fill=\"currentColor\" x=\"1400\">PROPN</tspan>\n",
       "</text>\n",
       "\n",
       "<text class=\"displacy-token\" fill=\"currentColor\" text-anchor=\"middle\" y=\"272.0\">\n",
       "    <tspan class=\"displacy-word\" fill=\"currentColor\" x=\"1550\">for</tspan>\n",
       "    <tspan class=\"displacy-tag\" dy=\"2em\" fill=\"currentColor\" x=\"1550\">ADP</tspan>\n",
       "</text>\n",
       "\n",
       "<text class=\"displacy-token\" fill=\"currentColor\" text-anchor=\"middle\" y=\"272.0\">\n",
       "    <tspan class=\"displacy-word\" fill=\"currentColor\" x=\"1700\">$</tspan>\n",
       "    <tspan class=\"displacy-tag\" dy=\"2em\" fill=\"currentColor\" x=\"1700\">SYM</tspan>\n",
       "</text>\n",
       "\n",
       "<text class=\"displacy-token\" fill=\"currentColor\" text-anchor=\"middle\" y=\"272.0\">\n",
       "    <tspan class=\"displacy-word\" fill=\"currentColor\" x=\"1850\">1</tspan>\n",
       "    <tspan class=\"displacy-tag\" dy=\"2em\" fill=\"currentColor\" x=\"1850\">NUM</tspan>\n",
       "</text>\n",
       "\n",
       "<text class=\"displacy-token\" fill=\"currentColor\" text-anchor=\"middle\" y=\"272.0\">\n",
       "    <tspan class=\"displacy-word\" fill=\"currentColor\" x=\"2000\">billion.</tspan>\n",
       "    <tspan class=\"displacy-tag\" dy=\"2em\" fill=\"currentColor\" x=\"2000\">NUM</tspan>\n",
       "</text>\n",
       "\n",
       "<g class=\"displacy-arrow\">\n",
       "    <path class=\"displacy-arc\" id=\"arrow-03dfe699c28d49a0a7e22ff9c307f409-0-0\" stroke-width=\"2px\" d=\"M62,227.0 62,177.0 347.0,177.0 347.0,227.0\" fill=\"none\" stroke=\"currentColor\"/>\n",
       "    <text dy=\"1.25em\" style=\"font-size: 0.8em; letter-spacing: 1px\">\n",
       "        <textPath xlink:href=\"#arrow-03dfe699c28d49a0a7e22ff9c307f409-0-0\" class=\"displacy-label\" startOffset=\"50%\" side=\"left\" fill=\"currentColor\" text-anchor=\"middle\">nsubj</textPath>\n",
       "    </text>\n",
       "    <path class=\"displacy-arrowhead\" d=\"M62,229.0 L58,221.0 66,221.0\" fill=\"currentColor\"/>\n",
       "</g>\n",
       "\n",
       "<g class=\"displacy-arrow\">\n",
       "    <path class=\"displacy-arc\" id=\"arrow-03dfe699c28d49a0a7e22ff9c307f409-0-1\" stroke-width=\"2px\" d=\"M212,227.0 212,202.0 344.0,202.0 344.0,227.0\" fill=\"none\" stroke=\"currentColor\"/>\n",
       "    <text dy=\"1.25em\" style=\"font-size: 0.8em; letter-spacing: 1px\">\n",
       "        <textPath xlink:href=\"#arrow-03dfe699c28d49a0a7e22ff9c307f409-0-1\" class=\"displacy-label\" startOffset=\"50%\" side=\"left\" fill=\"currentColor\" text-anchor=\"middle\">aux</textPath>\n",
       "    </text>\n",
       "    <path class=\"displacy-arrowhead\" d=\"M212,229.0 L208,221.0 216,221.0\" fill=\"currentColor\"/>\n",
       "</g>\n",
       "\n",
       "<g class=\"displacy-arrow\">\n",
       "    <path class=\"displacy-arc\" id=\"arrow-03dfe699c28d49a0a7e22ff9c307f409-0-2\" stroke-width=\"2px\" d=\"M362,227.0 362,202.0 494.0,202.0 494.0,227.0\" fill=\"none\" stroke=\"currentColor\"/>\n",
       "    <text dy=\"1.25em\" style=\"font-size: 0.8em; letter-spacing: 1px\">\n",
       "        <textPath xlink:href=\"#arrow-03dfe699c28d49a0a7e22ff9c307f409-0-2\" class=\"displacy-label\" startOffset=\"50%\" side=\"left\" fill=\"currentColor\" text-anchor=\"middle\">prep</textPath>\n",
       "    </text>\n",
       "    <path class=\"displacy-arrowhead\" d=\"M494.0,229.0 L498.0,221.0 490.0,221.0\" fill=\"currentColor\"/>\n",
       "</g>\n",
       "\n",
       "<g class=\"displacy-arrow\">\n",
       "    <path class=\"displacy-arc\" id=\"arrow-03dfe699c28d49a0a7e22ff9c307f409-0-3\" stroke-width=\"2px\" d=\"M512,227.0 512,202.0 644.0,202.0 644.0,227.0\" fill=\"none\" stroke=\"currentColor\"/>\n",
       "    <text dy=\"1.25em\" style=\"font-size: 0.8em; letter-spacing: 1px\">\n",
       "        <textPath xlink:href=\"#arrow-03dfe699c28d49a0a7e22ff9c307f409-0-3\" class=\"displacy-label\" startOffset=\"50%\" side=\"left\" fill=\"currentColor\" text-anchor=\"middle\">pcomp</textPath>\n",
       "    </text>\n",
       "    <path class=\"displacy-arrowhead\" d=\"M644.0,229.0 L648.0,221.0 640.0,221.0\" fill=\"currentColor\"/>\n",
       "</g>\n",
       "\n",
       "<g class=\"displacy-arrow\">\n",
       "    <path class=\"displacy-arc\" id=\"arrow-03dfe699c28d49a0a7e22ff9c307f409-0-4\" stroke-width=\"2px\" d=\"M812,227.0 812,202.0 944.0,202.0 944.0,227.0\" fill=\"none\" stroke=\"currentColor\"/>\n",
       "    <text dy=\"1.25em\" style=\"font-size: 0.8em; letter-spacing: 1px\">\n",
       "        <textPath xlink:href=\"#arrow-03dfe699c28d49a0a7e22ff9c307f409-0-4\" class=\"displacy-label\" startOffset=\"50%\" side=\"left\" fill=\"currentColor\" text-anchor=\"middle\">det</textPath>\n",
       "    </text>\n",
       "    <path class=\"displacy-arrowhead\" d=\"M812,229.0 L808,221.0 816,221.0\" fill=\"currentColor\"/>\n",
       "</g>\n",
       "\n",
       "<g class=\"displacy-arrow\">\n",
       "    <path class=\"displacy-arc\" id=\"arrow-03dfe699c28d49a0a7e22ff9c307f409-0-5\" stroke-width=\"2px\" d=\"M662,227.0 662,177.0 947.0,177.0 947.0,227.0\" fill=\"none\" stroke=\"currentColor\"/>\n",
       "    <text dy=\"1.25em\" style=\"font-size: 0.8em; letter-spacing: 1px\">\n",
       "        <textPath xlink:href=\"#arrow-03dfe699c28d49a0a7e22ff9c307f409-0-5\" class=\"displacy-label\" startOffset=\"50%\" side=\"left\" fill=\"currentColor\" text-anchor=\"middle\">dobj</textPath>\n",
       "    </text>\n",
       "    <path class=\"displacy-arrowhead\" d=\"M947.0,229.0 L951.0,221.0 943.0,221.0\" fill=\"currentColor\"/>\n",
       "</g>\n",
       "\n",
       "<g class=\"displacy-arrow\">\n",
       "    <path class=\"displacy-arc\" id=\"arrow-03dfe699c28d49a0a7e22ff9c307f409-0-6\" stroke-width=\"2px\" d=\"M962,227.0 962,202.0 1094.0,202.0 1094.0,227.0\" fill=\"none\" stroke=\"currentColor\"/>\n",
       "    <text dy=\"1.25em\" style=\"font-size: 0.8em; letter-spacing: 1px\">\n",
       "        <textPath xlink:href=\"#arrow-03dfe699c28d49a0a7e22ff9c307f409-0-6\" class=\"displacy-label\" startOffset=\"50%\" side=\"left\" fill=\"currentColor\" text-anchor=\"middle\">prep</textPath>\n",
       "    </text>\n",
       "    <path class=\"displacy-arrowhead\" d=\"M1094.0,229.0 L1098.0,221.0 1090.0,221.0\" fill=\"currentColor\"/>\n",
       "</g>\n",
       "\n",
       "<g class=\"displacy-arrow\">\n",
       "    <path class=\"displacy-arc\" id=\"arrow-03dfe699c28d49a0a7e22ff9c307f409-0-7\" stroke-width=\"2px\" d=\"M1262,227.0 1262,202.0 1394.0,202.0 1394.0,227.0\" fill=\"none\" stroke=\"currentColor\"/>\n",
       "    <text dy=\"1.25em\" style=\"font-size: 0.8em; letter-spacing: 1px\">\n",
       "        <textPath xlink:href=\"#arrow-03dfe699c28d49a0a7e22ff9c307f409-0-7\" class=\"displacy-label\" startOffset=\"50%\" side=\"left\" fill=\"currentColor\" text-anchor=\"middle\">det</textPath>\n",
       "    </text>\n",
       "    <path class=\"displacy-arrowhead\" d=\"M1262,229.0 L1258,221.0 1266,221.0\" fill=\"currentColor\"/>\n",
       "</g>\n",
       "\n",
       "<g class=\"displacy-arrow\">\n",
       "    <path class=\"displacy-arc\" id=\"arrow-03dfe699c28d49a0a7e22ff9c307f409-0-8\" stroke-width=\"2px\" d=\"M1112,227.0 1112,177.0 1397.0,177.0 1397.0,227.0\" fill=\"none\" stroke=\"currentColor\"/>\n",
       "    <text dy=\"1.25em\" style=\"font-size: 0.8em; letter-spacing: 1px\">\n",
       "        <textPath xlink:href=\"#arrow-03dfe699c28d49a0a7e22ff9c307f409-0-8\" class=\"displacy-label\" startOffset=\"50%\" side=\"left\" fill=\"currentColor\" text-anchor=\"middle\">pobj</textPath>\n",
       "    </text>\n",
       "    <path class=\"displacy-arrowhead\" d=\"M1397.0,229.0 L1401.0,221.0 1393.0,221.0\" fill=\"currentColor\"/>\n",
       "</g>\n",
       "\n",
       "<g class=\"displacy-arrow\">\n",
       "    <path class=\"displacy-arc\" id=\"arrow-03dfe699c28d49a0a7e22ff9c307f409-0-9\" stroke-width=\"2px\" d=\"M662,227.0 662,152.0 1550.0,152.0 1550.0,227.0\" fill=\"none\" stroke=\"currentColor\"/>\n",
       "    <text dy=\"1.25em\" style=\"font-size: 0.8em; letter-spacing: 1px\">\n",
       "        <textPath xlink:href=\"#arrow-03dfe699c28d49a0a7e22ff9c307f409-0-9\" class=\"displacy-label\" startOffset=\"50%\" side=\"left\" fill=\"currentColor\" text-anchor=\"middle\">prep</textPath>\n",
       "    </text>\n",
       "    <path class=\"displacy-arrowhead\" d=\"M1550.0,229.0 L1554.0,221.0 1546.0,221.0\" fill=\"currentColor\"/>\n",
       "</g>\n",
       "\n",
       "<g class=\"displacy-arrow\">\n",
       "    <path class=\"displacy-arc\" id=\"arrow-03dfe699c28d49a0a7e22ff9c307f409-0-10\" stroke-width=\"2px\" d=\"M1712,227.0 1712,177.0 1997.0,177.0 1997.0,227.0\" fill=\"none\" stroke=\"currentColor\"/>\n",
       "    <text dy=\"1.25em\" style=\"font-size: 0.8em; letter-spacing: 1px\">\n",
       "        <textPath xlink:href=\"#arrow-03dfe699c28d49a0a7e22ff9c307f409-0-10\" class=\"displacy-label\" startOffset=\"50%\" side=\"left\" fill=\"currentColor\" text-anchor=\"middle\">quantmod</textPath>\n",
       "    </text>\n",
       "    <path class=\"displacy-arrowhead\" d=\"M1712,229.0 L1708,221.0 1716,221.0\" fill=\"currentColor\"/>\n",
       "</g>\n",
       "\n",
       "<g class=\"displacy-arrow\">\n",
       "    <path class=\"displacy-arc\" id=\"arrow-03dfe699c28d49a0a7e22ff9c307f409-0-11\" stroke-width=\"2px\" d=\"M1862,227.0 1862,202.0 1994.0,202.0 1994.0,227.0\" fill=\"none\" stroke=\"currentColor\"/>\n",
       "    <text dy=\"1.25em\" style=\"font-size: 0.8em; letter-spacing: 1px\">\n",
       "        <textPath xlink:href=\"#arrow-03dfe699c28d49a0a7e22ff9c307f409-0-11\" class=\"displacy-label\" startOffset=\"50%\" side=\"left\" fill=\"currentColor\" text-anchor=\"middle\">compound</textPath>\n",
       "    </text>\n",
       "    <path class=\"displacy-arrowhead\" d=\"M1862,229.0 L1858,221.0 1866,221.0\" fill=\"currentColor\"/>\n",
       "</g>\n",
       "\n",
       "<g class=\"displacy-arrow\">\n",
       "    <path class=\"displacy-arc\" id=\"arrow-03dfe699c28d49a0a7e22ff9c307f409-0-12\" stroke-width=\"2px\" d=\"M1562,227.0 1562,152.0 2000.0,152.0 2000.0,227.0\" fill=\"none\" stroke=\"currentColor\"/>\n",
       "    <text dy=\"1.25em\" style=\"font-size: 0.8em; letter-spacing: 1px\">\n",
       "        <textPath xlink:href=\"#arrow-03dfe699c28d49a0a7e22ff9c307f409-0-12\" class=\"displacy-label\" startOffset=\"50%\" side=\"left\" fill=\"currentColor\" text-anchor=\"middle\">pobj</textPath>\n",
       "    </text>\n",
       "    <path class=\"displacy-arrowhead\" d=\"M2000.0,229.0 L2004.0,221.0 1996.0,221.0\" fill=\"currentColor\"/>\n",
       "</g>\n",
       "</svg></span>"
      ],
      "text/plain": [
       "<IPython.core.display.HTML object>"
      ]
     },
     "metadata": {},
     "output_type": "display_data"
    }
   ],
   "source": [
    "from spacy import displacy\n",
    "\n",
    "displacy.render(doc, style=\"dep\", jupyter=True, options={\"compact\": True, \"color\": \"blue\"})\n"
   ]
  },
  {
   "cell_type": "markdown",
   "id": "25d45f18-3f42-4b4d-be39-decd4f5f1ca1",
   "metadata": {},
   "source": [
    "# 🔍 Step 5: Filter by Specific POS"
   ]
  },
  {
   "cell_type": "code",
   "execution_count": 19,
   "id": "852d6791-574d-4d10-afca-f2b06f00bdb9",
   "metadata": {},
   "outputs": [
    {
     "name": "stdout",
     "output_type": "stream",
     "text": [
      "looking → VERB\n",
      "buying → VERB\n",
      "startup → NOUN\n"
     ]
    }
   ],
   "source": [
    "# Get only nouns and verbs\n",
    "for token in doc:\n",
    "    if token.pos_ in (\"NOUN\", \"VERB\"):\n",
    "        print(token.text, \"→\", token.pos_)\n"
   ]
  },
  {
   "cell_type": "markdown",
   "id": "e78cf7b7-00f4-4dc3-b7cb-1ade0bfe8f5a",
   "metadata": {},
   "source": [
    "# 📌 Step 6: Count POS Frequencies"
   ]
  },
  {
   "cell_type": "code",
   "execution_count": 46,
   "id": "f90aca29-40d2-4d72-b47a-7b12800dbf2a",
   "metadata": {},
   "outputs": [
    {
     "name": "stdout",
     "output_type": "stream",
     "text": [
      "Counter({'ADP': 3, 'PROPN': 2, 'VERB': 2, 'DET': 2, 'NUM': 2, 'AUX': 1, 'NOUN': 1, 'SYM': 1, 'PUNCT': 1})\n"
     ]
    }
   ],
   "source": [
    "from collections import Counter\n",
    "\n",
    "pos_counts = Counter([token.pos_ for token in doc])\n",
    "print(pos_counts)\n"
   ]
  },
  {
   "cell_type": "code",
   "execution_count": 58,
   "id": "e5b5fa88-43d4-42a4-b635-1c742e89a4a1",
   "metadata": {},
   "outputs": [
    {
     "name": "stdout",
     "output_type": "stream",
     "text": [
      "{96: 2, 87: 1, 100: 2, 85: 3, 90: 2, 92: 1, 99: 1, 93: 2, 97: 1}\n",
      "<class 'dict'>\n",
      "POS             NumberOfOccurrence\n",
      "PROPN           2\n",
      "AUX             1\n",
      "VERB            2\n",
      "ADP             3\n",
      "DET             2\n",
      "NOUN            1\n",
      "SYM             1\n",
      "NUM             2\n",
      "PUNCT           1\n"
     ]
    }
   ],
   "source": [
    "POS_Count = doc.count_by(spacy.attrs.POS)\n",
    "print(POS_Count)\n",
    "print(type(POS_Count))\n",
    "print(f\"{'POS':<15} {'NumberOfOccurrence':<15}\")\n",
    "for key, value in POS_Count.items():\n",
    "    print(f\"{doc.vocab[key].text:<15} {value}\")"
   ]
  },
  {
   "cell_type": "markdown",
   "id": "a6a1d522-a5b6-4336-95f6-4abe74a065b7",
   "metadata": {},
   "source": [
    "# 🧪 Step 7: Custom POS Tagging Function"
   ]
  },
  {
   "cell_type": "code",
   "execution_count": 32,
   "id": "3e2bf856-b3e1-4118-afbd-a007c402896d",
   "metadata": {},
   "outputs": [
    {
     "name": "stdout",
     "output_type": "stream",
     "text": [
      "Token           POS        Tag     Explanation\n",
      "==================================================\n",
      "Elon            PROPN      NNP     noun, proper singular\n",
      "Musk            PROPN      NNP     noun, proper singular\n",
      "founded         VERB       VBD     verb, past tense\n",
      "SpaceX          PROPN      NNP     noun, proper singular\n",
      "and             CCONJ      CC      conjunction, coordinating\n",
      "Tesla           PROPN      NNP     noun, proper singular\n",
      "Motors          PROPN      NNPS    noun, proper plural\n",
      "in              ADP        IN      conjunction, subordinating or preposition\n",
      "the             DET        DT      determiner\n",
      "early           ADJ        JJ      adjective (English), other noun-modifier (Chinese)\n",
      "2000s           NUM        CD      cardinal number\n",
      ".               PUNCT      .       punctuation mark, sentence closer\n"
     ]
    }
   ],
   "source": [
    "def print_pos_tags(text):\n",
    "    doc = nlp(text)\n",
    "    print(f\"{'Token':<15} {'POS':<10} {'Tag':<7} {'Explanation'}\")\n",
    "    print(\"=\"*50)\n",
    "    for token in doc:\n",
    "        print(f\"{token.text:<15} {token.pos_:<10} {token.tag_:<7} {spacy.explain(token.tag_)}\")\n",
    "        \n",
    "print_pos_tags(\"Elon Musk founded SpaceX and Tesla Motors in the early 2000s.\")\n"
   ]
  },
  {
   "cell_type": "markdown",
   "id": "6b4acad8-b408-4835-95fb-1deef26cc7f5",
   "metadata": {},
   "source": [
    "# 🧬 Step 8: Combining POS with Dependency Parsing"
   ]
  },
  {
   "cell_type": "code",
   "execution_count": 36,
   "id": "3c92a2d3-6753-4260-8163-a0d0303a0897",
   "metadata": {},
   "outputs": [
    {
     "name": "stdout",
     "output_type": "stream",
     "text": [
      "Apple        | POS: PROPN  | DEP: nsubj      | Head: looking\n",
      "is           | POS: AUX    | DEP: aux        | Head: looking\n",
      "looking      | POS: VERB   | DEP: ROOT       | Head: looking\n",
      "at           | POS: ADP    | DEP: prep       | Head: looking\n",
      "buying       | POS: VERB   | DEP: pcomp      | Head: at\n",
      "a            | POS: DET    | DEP: det        | Head: startup\n",
      "startup      | POS: NOUN   | DEP: dobj       | Head: buying\n",
      "in           | POS: ADP    | DEP: prep       | Head: startup\n",
      "the          | POS: DET    | DEP: det        | Head: UK\n",
      "UK           | POS: PROPN  | DEP: pobj       | Head: in\n",
      "for          | POS: ADP    | DEP: prep       | Head: buying\n",
      "$            | POS: SYM    | DEP: quantmod   | Head: billion\n",
      "1            | POS: NUM    | DEP: compound   | Head: billion\n",
      "billion      | POS: NUM    | DEP: pobj       | Head: for\n",
      ".            | POS: PUNCT  | DEP: punct      | Head: looking\n"
     ]
    }
   ],
   "source": [
    "for token in doc:\n",
    "    print(f\"{token.text:<12} | POS: {token.pos_:<6} | DEP: {token.dep_:<10} | Head: {token.head.text}\")\n"
   ]
  },
  {
   "cell_type": "markdown",
   "id": "49d4c5b3-6e69-4cbc-9e01-c0e140ad549e",
   "metadata": {},
   "source": [
    "# ⚙️ Advanced: Custom Pipeline to Extract POS-based Patterns"
   ]
  },
  {
   "cell_type": "code",
   "execution_count": 39,
   "id": "f567f246-2f15-4e48-b3e2-8dd58972cfae",
   "metadata": {},
   "outputs": [
    {
     "name": "stdout",
     "output_type": "stream",
     "text": [
      "[('brown', 'fox'), ('lazy', 'dog')]\n"
     ]
    }
   ],
   "source": [
    "def extract_adj_noun_pairs(doc):\n",
    "    pairs = []\n",
    "    for i in range(len(doc) - 1):\n",
    "        if doc[i].pos_ == \"ADJ\" and doc[i+1].pos_ == \"NOUN\":\n",
    "            pairs.append((doc[i].text, doc[i+1].text))\n",
    "    return pairs\n",
    "\n",
    "text = \"The quick brown fox jumps over the lazy dog.\"\n",
    "doc = nlp(text)\n",
    "print(extract_adj_noun_pairs(doc))\n"
   ]
  },
  {
   "cell_type": "markdown",
   "id": "f866cac7-e3e9-438e-bbc4-d5729acac7c5",
   "metadata": {},
   "source": [
    "# 🧾 References\n",
    "- [spaCy POS Documentation](https://spacy.io/api/data-formats#pos-tagging)\n",
    "- [Universal POS Tags](https://universaldependencies.org/u/pos/)"
   ]
  },
  {
   "cell_type": "code",
   "execution_count": null,
   "id": "14c38c4d-c458-40a3-9720-9cdd6aef717b",
   "metadata": {},
   "outputs": [],
   "source": []
  },
  {
   "cell_type": "code",
   "execution_count": null,
   "id": "09334360-1e9b-403e-ae29-71bbe765d478",
   "metadata": {},
   "outputs": [],
   "source": []
  },
  {
   "cell_type": "code",
   "execution_count": null,
   "id": "9ea50e1e-86f7-44a4-ba0e-d5e704bd9ed2",
   "metadata": {},
   "outputs": [],
   "source": []
  },
  {
   "cell_type": "code",
   "execution_count": null,
   "id": "7fcf804f-3e34-4594-9f46-f577e97ec6eb",
   "metadata": {},
   "outputs": [],
   "source": []
  },
  {
   "cell_type": "code",
   "execution_count": null,
   "id": "7a5f103b-3de8-4698-a293-ab01eeec0d57",
   "metadata": {},
   "outputs": [],
   "source": []
  },
  {
   "cell_type": "code",
   "execution_count": null,
   "id": "936a878e-6a51-4ebe-9955-2f9928872655",
   "metadata": {},
   "outputs": [],
   "source": []
  },
  {
   "cell_type": "code",
   "execution_count": null,
   "id": "f143ed54-af3a-4443-be0e-d208c6aa842c",
   "metadata": {},
   "outputs": [],
   "source": []
  }
 ],
 "metadata": {
  "kernelspec": {
   "display_name": "Python [conda env:nlp-env]",
   "language": "python",
   "name": "conda-env-nlp-env-py"
  },
  "language_info": {
   "codemirror_mode": {
    "name": "ipython",
    "version": 3
   },
   "file_extension": ".py",
   "mimetype": "text/x-python",
   "name": "python",
   "nbconvert_exporter": "python",
   "pygments_lexer": "ipython3",
   "version": "3.10.18"
  }
 },
 "nbformat": 4,
 "nbformat_minor": 5
}
