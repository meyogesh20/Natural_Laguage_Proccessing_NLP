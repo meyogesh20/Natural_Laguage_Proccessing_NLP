{
 "cells": [
  {
   "cell_type": "markdown",
   "id": "324f2899-eaa4-49e2-8cef-a4017b00151a",
   "metadata": {},
   "source": [
    "#### To Check any version conflicts for modules and libraries.\n",
    "    ! pip check\n",
    "\n",
    "- Then resolve it by re-installing or upgrading the module and libraries to required version\n",
    "- Or directly share the conflict on ChatGpt, it will provide the solution, follow steps which will work for you.\n",
    "\n",
    "- Mostly create virtual Environment suitable for technical Stack. Because most of the libraries may not be compatible with the version of the dependent modules. Use yml file for environment and setup it using conda prompt "
   ]
  },
  {
   "cell_type": "code",
   "execution_count": 2,
   "id": "90968a1b-fc39-4dcf-a9f6-4781620fa3e7",
   "metadata": {},
   "outputs": [
    {
     "name": "stdout",
     "output_type": "stream",
     "text": [
      "No broken requirements found.\n"
     ]
    }
   ],
   "source": [
    "! pip check"
   ]
  },
  {
   "cell_type": "markdown",
   "id": "be4d2c54-9bb0-4131-9ff7-0381092d18ee",
   "metadata": {},
   "source": [
    "- Download Spacy Library\n",
    "```python\n",
    "! python -m spacy download en\n",
    "```\n",
    "You can now load the package via spacy.load('en_core_web_sm')"
   ]
  },
  {
   "cell_type": "code",
   "execution_count": 4,
   "id": "fcf32321-c535-485b-919d-cdd7e352cf93",
   "metadata": {},
   "outputs": [],
   "source": [
    "import spacy"
   ]
  },
  {
   "cell_type": "code",
   "execution_count": 5,
   "id": "3f9a004b-0c6c-4630-b893-19a925b2624e",
   "metadata": {},
   "outputs": [],
   "source": [
    "nlp = spacy.load('en_core_web_sm')"
   ]
  },
  {
   "cell_type": "code",
   "execution_count": 6,
   "id": "3b4d07c7-3125-4238-b7e0-bdaeb405fb0f",
   "metadata": {},
   "outputs": [],
   "source": [
    "doc = nlp('Tesla is looking at buying U.S. startup for $6 million')"
   ]
  },
  {
   "cell_type": "code",
   "execution_count": 7,
   "id": "8b1eb4bc-7eff-4df3-bac8-dcceb2602232",
   "metadata": {},
   "outputs": [
    {
     "name": "stdout",
     "output_type": "stream",
     "text": [
      "Tesla\n",
      "is\n",
      "looking\n",
      "at\n",
      "buying\n",
      "U.S.\n",
      "startup\n",
      "for\n",
      "$\n",
      "6\n",
      "million\n"
     ]
    }
   ],
   "source": [
    "for token in doc:\n",
    "    print(token.text)"
   ]
  },
  {
   "cell_type": "code",
   "execution_count": 8,
   "id": "51bbfc3b-45fc-4938-974d-1ac7b80620f7",
   "metadata": {},
   "outputs": [
    {
     "name": "stdout",
     "output_type": "stream",
     "text": [
      "Tesla PROPN nsubj\n",
      "is AUX aux\n",
      "looking VERB ROOT\n",
      "at ADP prep\n",
      "buying VERB pcomp\n",
      "U.S. PROPN compound\n",
      "startup NOUN dobj\n",
      "for ADP prep\n",
      "$ SYM quantmod\n",
      "6 NUM compound\n",
      "million NUM pobj\n"
     ]
    }
   ],
   "source": [
    "for token in doc:\n",
    "    print(token.text, token.pos_, token.dep_)"
   ]
  },
  {
   "cell_type": "code",
   "execution_count": 9,
   "id": "2f430d10-7828-47b1-a073-b3e97def01b8",
   "metadata": {},
   "outputs": [
    {
     "data": {
      "text/plain": [
       "[('tok2vec', <spacy.pipeline.tok2vec.Tok2Vec at 0x1ffe12c75e0>),\n",
       " ('tagger', <spacy.pipeline.tagger.Tagger at 0x1ffe12c7be0>),\n",
       " ('parser', <spacy.pipeline.dep_parser.DependencyParser at 0x1ffe11ca180>),\n",
       " ('attribute_ruler',\n",
       "  <spacy.pipeline.attributeruler.AttributeRuler at 0x1ffe1444840>),\n",
       " ('lemmatizer', <spacy.lang.en.lemmatizer.EnglishLemmatizer at 0x1ffe14b6940>),\n",
       " ('ner', <spacy.pipeline.ner.EntityRecognizer at 0x1ffe11ca110>)]"
      ]
     },
     "execution_count": 9,
     "metadata": {},
     "output_type": "execute_result"
    }
   ],
   "source": [
    "nlp.pipeline"
   ]
  },
  {
   "cell_type": "code",
   "execution_count": 10,
   "id": "8dc11c2b-ce8f-4bff-96d3-c7684ac58da3",
   "metadata": {},
   "outputs": [
    {
     "data": {
      "text/plain": [
       "['tok2vec', 'tagger', 'parser', 'attribute_ruler', 'lemmatizer', 'ner']"
      ]
     },
     "execution_count": 10,
     "metadata": {},
     "output_type": "execute_result"
    }
   ],
   "source": [
    "nlp.pipe_names"
   ]
  },
  {
   "cell_type": "code",
   "execution_count": 11,
   "id": "fcd99d9c-afa0-43f1-b3b8-3814997039ad",
   "metadata": {},
   "outputs": [],
   "source": [
    "doc2 = nlp(\"Tesla isn't looking into startup anymore.\")"
   ]
  },
  {
   "cell_type": "code",
   "execution_count": 12,
   "id": "77ff66bd-7398-4de0-b3ac-b4d7d0473b82",
   "metadata": {},
   "outputs": [
    {
     "name": "stdout",
     "output_type": "stream",
     "text": [
      "Tesla PROPN nsubj\n",
      "is AUX aux\n",
      "n't PART neg\n",
      "looking VERB ROOT\n",
      "into ADP prep\n",
      "startup NOUN pobj\n",
      "anymore ADV advmod\n",
      ". PUNCT punct\n"
     ]
    }
   ],
   "source": [
    "for token in doc2:\n",
    "    print(token.text, token.pos_, token.dep_)"
   ]
  },
  {
   "cell_type": "code",
   "execution_count": 13,
   "id": "44c58a39-df57-4d01-9614-686028f0fb98",
   "metadata": {},
   "outputs": [
    {
     "data": {
      "text/plain": [
       "Tesla"
      ]
     },
     "execution_count": 13,
     "metadata": {},
     "output_type": "execute_result"
    }
   ],
   "source": [
    "doc2[0]"
   ]
  },
  {
   "cell_type": "code",
   "execution_count": 14,
   "id": "bc80dc7a-85ad-4b64-ad17-57381450495f",
   "metadata": {},
   "outputs": [
    {
     "data": {
      "text/plain": [
       "'PROPN'"
      ]
     },
     "execution_count": 14,
     "metadata": {},
     "output_type": "execute_result"
    }
   ],
   "source": [
    "doc2[0].pos_"
   ]
  },
  {
   "cell_type": "code",
   "execution_count": 15,
   "id": "5afc54d6-3f3c-4e82-ab9c-c12053adfcf5",
   "metadata": {},
   "outputs": [
    {
     "data": {
      "text/plain": [
       "'nsubj'"
      ]
     },
     "execution_count": 15,
     "metadata": {},
     "output_type": "execute_result"
    }
   ],
   "source": [
    "doc2[0].dep_"
   ]
  },
  {
   "cell_type": "code",
   "execution_count": 16,
   "id": "c3e87b23-f85c-4a1d-867f-5053717deb4f",
   "metadata": {},
   "outputs": [],
   "source": [
    "doc3 = nlp(u'Although commmonly attributed to John Lennon from his song \"Beautiful Boy\", \\\n",
    "the phrase \"Life is what happens to us while we are making other plans\" was written by \\\n",
    "cartoonist Allen Saunders and published in Reader\\'s Digest in 1957, when Lennon was 17.')"
   ]
  },
  {
   "cell_type": "code",
   "execution_count": 17,
   "id": "d24b4c2f-7344-4a57-bf09-889308641887",
   "metadata": {},
   "outputs": [],
   "source": [
    "life_quote = doc3[16:30]"
   ]
  },
  {
   "cell_type": "code",
   "execution_count": 18,
   "id": "a0526ee0-7e0a-405c-9537-9e30fe192da6",
   "metadata": {},
   "outputs": [
    {
     "name": "stdout",
     "output_type": "stream",
     "text": [
      "\"Life is what happens to us while we are making other plans\"\n"
     ]
    }
   ],
   "source": [
    "print(life_quote)"
   ]
  },
  {
   "cell_type": "code",
   "execution_count": 19,
   "id": "e2bd37b7-c48b-468b-8772-bee6de87e80d",
   "metadata": {},
   "outputs": [
    {
     "data": {
      "text/plain": [
       "spacy.tokens.span.Span"
      ]
     },
     "execution_count": 19,
     "metadata": {},
     "output_type": "execute_result"
    }
   ],
   "source": [
    "type(life_quote)"
   ]
  },
  {
   "cell_type": "code",
   "execution_count": 20,
   "id": "32b6b4f4-2883-401b-ac24-246df25d6813",
   "metadata": {},
   "outputs": [
    {
     "data": {
      "text/plain": [
       "spacy.tokens.doc.Doc"
      ]
     },
     "execution_count": 20,
     "metadata": {},
     "output_type": "execute_result"
    }
   ],
   "source": [
    "type(doc3)"
   ]
  },
  {
   "cell_type": "code",
   "execution_count": 21,
   "id": "d560c7eb-2d02-4066-94f6-cc264efebdd8",
   "metadata": {},
   "outputs": [],
   "source": [
    "doc4 = nlp(\"This is the first sentence. This is another sentence. This is the last sentence.\")"
   ]
  },
  {
   "cell_type": "code",
   "execution_count": 22,
   "id": "38ff6cae-245e-434b-96b7-2f990ae60a96",
   "metadata": {},
   "outputs": [
    {
     "name": "stdout",
     "output_type": "stream",
     "text": [
      "This is the first sentence.\n",
      "This is another sentence.\n",
      "This is the last sentence.\n"
     ]
    }
   ],
   "source": [
    "for sentence in doc4.sents:\n",
    "    print(sentence)"
   ]
  },
  {
   "cell_type": "code",
   "execution_count": 23,
   "id": "1e862b0c-f45d-410f-b010-6537ae244f4a",
   "metadata": {},
   "outputs": [
    {
     "data": {
      "text/plain": [
       "This"
      ]
     },
     "execution_count": 23,
     "metadata": {},
     "output_type": "execute_result"
    }
   ],
   "source": [
    "doc4[6]"
   ]
  },
  {
   "cell_type": "code",
   "execution_count": 24,
   "id": "69a18713-d389-4833-bb81-d7cefef0af6b",
   "metadata": {},
   "outputs": [
    {
     "data": {
      "text/plain": [
       "True"
      ]
     },
     "execution_count": 24,
     "metadata": {},
     "output_type": "execute_result"
    }
   ],
   "source": [
    "doc4[6].is_sent_start"
   ]
  },
  {
   "attachments": {
    "3538ba5d-69ad-44f0-9362-69d416cc6281.png": {
     "image/png": "[encoded data removed]"
    }
   },
   "cell_type": "markdown",
   "id": "9dae4035-4613-41b7-b1f4-885a7c373f23",
   "metadata": {},
   "source": [
    "# Tokenization \n",
    "- _**Tokenization**_ is the process of breaking up the original text into component pieces(_**tokens**_)\n",
    "- _**Tokens**_ are the basic building blocks of a Doc object - everything that helps us understand the meaning of the test is dervied from tokens and their relationship to one another.\n",
    "- Tokenization is done based on \n",
    "1. Prefix: Character(s) at the beginning, e.g. $, (, “, ¿.\n",
    "2. Suffix: Character(s) at the end, e.g. km, ), ”, !.\n",
    "3. Infix: Character(s) in between, e.g. -, --, /, ….\n",
    "4. exception: Special-case rule to split a string into several tokens or prevent a token from being split when punctuation rules are applied.\n",
    "   # _Tokenization_\n",
    "   # \"Let's go to N.Y.!\"\n",
    "![image.png](attachment:3538ba5d-69ad-44f0-9362-69d416cc6281.png)\n",
    "\n",
    "---\n",
    "- First, the raw text is split on whitespace characters, similar to <code>text.split(' ')</code>. Then, the tokenizer processes the text from left to right. On each substring, it performs two checks:\n",
    "\n",
    "     1. Does the substring match a tokenizer exception rule? For example, “don’t” does not contain whitespace, but should be split into two tokens, “do” and “n’t”, while “U.K.” should always remain one token.\n",
    "     2. Can a prefix, suffix or infix be split off? For example punctuation like commas, periods, hyphens or quotes."
   ]
  },
  {
   "cell_type": "code",
   "execution_count": 26,
   "id": "5a279cf8-fa3c-49ab-9879-f1f1c18c9b96",
   "metadata": {},
   "outputs": [],
   "source": [
    "import spacy\n",
    "nlp = spacy.load('en_core_web_sm')"
   ]
  },
  {
   "cell_type": "code",
   "execution_count": 27,
   "id": "0b7853f0-3949-4cd8-852f-5585cccbd873",
   "metadata": {},
   "outputs": [
    {
     "name": "stdout",
     "output_type": "stream",
     "text": [
      "\"We're moving to L.A.!\"\n"
     ]
    }
   ],
   "source": [
    "mystring = '\"We\\'re moving to L.A.!\"'\n",
    "print(mystring)"
   ]
  },
  {
   "cell_type": "code",
   "execution_count": 28,
   "id": "f7594063-852c-472d-a410-e8f1125f187d",
   "metadata": {},
   "outputs": [],
   "source": [
    "doc = nlp(mystring)"
   ]
  },
  {
   "cell_type": "code",
   "execution_count": 29,
   "id": "6409a4ef-a161-4017-8c18-c396df3bfe5e",
   "metadata": {},
   "outputs": [
    {
     "name": "stdout",
     "output_type": "stream",
     "text": [
      "\"\n",
      "We\n",
      "'re\n",
      "moving\n",
      "to\n",
      "L.A.\n",
      "!\n",
      "\"\n"
     ]
    }
   ],
   "source": [
    "for token in doc:\n",
    "    print(token.text)"
   ]
  },
  {
   "cell_type": "code",
   "execution_count": 30,
   "id": "91cf75bf-7103-4399-9756-d1bc69d4462b",
   "metadata": {},
   "outputs": [],
   "source": [
    "doc2 = nlp(\"We're here to help! Send snail-mail, email support@oursite.com or visit us at http://www.oursite.com!\")"
   ]
  },
  {
   "cell_type": "code",
   "execution_count": 31,
   "id": "b8ad0a51-e863-44ff-b4b4-204f4c2cb846",
   "metadata": {},
   "outputs": [
    {
     "name": "stdout",
     "output_type": "stream",
     "text": [
      "We\n",
      "'re\n",
      "here\n",
      "to\n",
      "help\n",
      "!\n",
      "Send\n",
      "snail\n",
      "-\n",
      "mail\n",
      ",\n",
      "email\n",
      "support@oursite.com\n",
      "or\n",
      "visit\n",
      "us\n",
      "at\n",
      "http://www.oursite.com\n",
      "!\n"
     ]
    }
   ],
   "source": [
    "for t in doc2:\n",
    "    print(t)"
   ]
  },
  {
   "cell_type": "code",
   "execution_count": 32,
   "id": "c8053155-2cd1-4fae-a0db-2c02a489509b",
   "metadata": {},
   "outputs": [],
   "source": [
    "doc3 = nlp(\"A 5km NYC ride costs $10.30\")"
   ]
  },
  {
   "cell_type": "code",
   "execution_count": 33,
   "id": "3f52b413-304d-4c9e-9683-b80426d4a88d",
   "metadata": {},
   "outputs": [
    {
     "name": "stdout",
     "output_type": "stream",
     "text": [
      "A\n",
      "5\n",
      "km\n",
      "NYC\n",
      "ride\n",
      "costs\n",
      "$\n",
      "10.30\n"
     ]
    }
   ],
   "source": [
    "for t in doc3:\n",
    "    print(t.text)"
   ]
  },
  {
   "cell_type": "code",
   "execution_count": 34,
   "id": "18c04b1d-8ccf-4489-a059-77a991f36bf5",
   "metadata": {},
   "outputs": [],
   "source": [
    "doc4 = nlp(\"Let's visit St. Louis in the U.S. next year.\")"
   ]
  },
  {
   "cell_type": "code",
   "execution_count": 35,
   "id": "b74f0b04-eef5-45fe-b951-360b87b1eb27",
   "metadata": {},
   "outputs": [
    {
     "name": "stdout",
     "output_type": "stream",
     "text": [
      "Let\n",
      "'s\n",
      "visit\n",
      "St.\n",
      "Louis\n",
      "in\n",
      "the\n",
      "U.S.\n",
      "next\n",
      "year\n",
      ".\n"
     ]
    }
   ],
   "source": [
    "for tok in doc4:\n",
    "    print(tok)"
   ]
  },
  {
   "cell_type": "code",
   "execution_count": 36,
   "id": "88547387-ff10-41d2-b60f-22540ed36ff4",
   "metadata": {},
   "outputs": [
    {
     "data": {
      "text/plain": [
       "11"
      ]
     },
     "execution_count": 36,
     "metadata": {},
     "output_type": "execute_result"
    }
   ],
   "source": [
    "len(doc4)"
   ]
  },
  {
   "cell_type": "code",
   "execution_count": 37,
   "id": "69df80c5-7dba-4a0c-bc9d-2b4084f8a14d",
   "metadata": {},
   "outputs": [
    {
     "data": {
      "text/plain": [
       "793"
      ]
     },
     "execution_count": 37,
     "metadata": {},
     "output_type": "execute_result"
    }
   ],
   "source": [
    "len(doc4.vocab)"
   ]
  },
  {
   "cell_type": "code",
   "execution_count": 38,
   "id": "30b43b38-7556-415a-a002-2b3ec004281b",
   "metadata": {},
   "outputs": [
    {
     "data": {
      "text/plain": [
       "It"
      ]
     },
     "execution_count": 38,
     "metadata": {},
     "output_type": "execute_result"
    }
   ],
   "source": [
    "doc5 = nlp(\"It is better to give than receive\")\n",
    "doc5[0]"
   ]
  },
  {
   "cell_type": "code",
   "execution_count": 39,
   "id": "7770ea67-f3bb-48dd-9136-5541ec131158",
   "metadata": {},
   "outputs": [
    {
     "data": {
      "text/plain": [
       "better to give"
      ]
     },
     "execution_count": 39,
     "metadata": {},
     "output_type": "execute_result"
    }
   ],
   "source": [
    "doc5[2:5]"
   ]
  },
  {
   "cell_type": "markdown",
   "id": "92783305-c6fa-4f7b-9a48-4911181c9ff1",
   "metadata": {},
   "source": [
    "- Assignment is not allowed\n",
    "```Python\n",
    "doc5[0] = 'text'\n",
    "\n",
    "TypeError: 'spacy.tokens.doc.Doc' object does not support item assignment"
   ]
  },
  {
   "cell_type": "code",
   "execution_count": 41,
   "id": "012eedef-8d1d-46df-afbc-1ea9ba164dc5",
   "metadata": {},
   "outputs": [],
   "source": [
    "doc6 = nlp(\"Apple to build a Hong Kong factory for $6 million\")"
   ]
  },
  {
   "cell_type": "code",
   "execution_count": 42,
   "id": "8c368f23-d441-4dd3-8d03-74e9ceb22920",
   "metadata": {},
   "outputs": [
    {
     "name": "stdout",
     "output_type": "stream",
     "text": [
      "Apple   |   to   |   build   |   a   |   Hong   |   Kong   |   factory   |   for   |   $   |   6   |   million   |   "
     ]
    }
   ],
   "source": [
    "for token in doc6:\n",
    "    print(token.text,end=\"   |   \")"
   ]
  },
  {
   "cell_type": "code",
   "execution_count": 43,
   "id": "84a8c38b-3cc7-43a9-8c1f-f9cd1fd548f5",
   "metadata": {},
   "outputs": [
    {
     "name": "stdout",
     "output_type": "stream",
     "text": [
      "Apple\n",
      "Hong Kong\n",
      "$6 million\n"
     ]
    }
   ],
   "source": [
    "for entity in doc6.ents:\n",
    "    print(entity)"
   ]
  },
  {
   "cell_type": "code",
   "execution_count": 44,
   "id": "6001808a-be27-4010-a0ce-c22795f02e02",
   "metadata": {},
   "outputs": [
    {
     "name": "stdout",
     "output_type": "stream",
     "text": [
      "Apple ORG\n",
      "Hong Kong GPE\n",
      "$6 million MONEY\n"
     ]
    }
   ],
   "source": [
    "for entity in doc6.ents:\n",
    "    print(entity, entity.label_)"
   ]
  },
  {
   "cell_type": "code",
   "execution_count": 45,
   "id": "2fbf6d3d-83b2-4af3-9e4e-a5e474812dfa",
   "metadata": {},
   "outputs": [
    {
     "name": "stdout",
     "output_type": "stream",
     "text": [
      "Apple ORG\n",
      "Companies, agencies, institutions, etc.\n",
      "----------------------------------------\n",
      "Hong Kong GPE\n",
      "Countries, cities, states\n",
      "----------------------------------------\n",
      "$6 million MONEY\n",
      "Monetary values, including unit\n",
      "----------------------------------------\n"
     ]
    }
   ],
   "source": [
    "for entity in doc6.ents:\n",
    "    print(entity, entity.label_)\n",
    "    print(str(spacy.explain(entity.label_)))\n",
    "    print(\"----------------------------------------\")"
   ]
  },
  {
   "cell_type": "code",
   "execution_count": 46,
   "id": "b394b98d-20cf-428a-a869-250e363daaea",
   "metadata": {},
   "outputs": [
    {
     "name": "stdout",
     "output_type": "stream",
     "text": [
      "Autonomous cars\n",
      "insurance liability\n",
      "manufacturers\n"
     ]
    }
   ],
   "source": [
    "doc7 = nlp(\"Autonomous cars shift insurance liability toward manufacturers.\")\n",
    "for chunk in doc7.noun_chunks:\n",
    "    print(chunk)"
   ]
  },
  {
   "cell_type": "code",
   "execution_count": 47,
   "id": "a6ba398c-114e-48fc-aee1-9410b9dad7c8",
   "metadata": {},
   "outputs": [],
   "source": [
    "from spacy import displacy"
   ]
  },
  {
   "cell_type": "code",
   "execution_count": 48,
   "id": "f35b54b1-3c2d-4eeb-8bc2-190a69b050c4",
   "metadata": {},
   "outputs": [],
   "source": [
    "import spacy\n",
    "nlp = spacy.load('en_core_web_sm')"
   ]
  },
  {
   "cell_type": "code",
   "execution_count": 49,
   "id": "46148d9c-5ad3-4122-b22a-25d7cf485c0b",
   "metadata": {},
   "outputs": [],
   "source": [
    "doc = nlp(\"Apple is going to build a U.K. factory for $6 million\")"
   ]
  },
  {
   "cell_type": "code",
   "execution_count": 50,
   "id": "7f9bf420-1d2f-434a-b728-a046361e4735",
   "metadata": {},
   "outputs": [
    {
     "data": {
      "text/html": [
       "<span class=\"tex2jax_ignore\"><svg xmlns=\"http://www.w3.org/2000/svg\" xmlns:xlink=\"http://www.w3.org/1999/xlink\" xml:lang=\"en\" id=\"353ef6701c9445d1a3e4d573622509aa-0\" class=\"displacy\" width=\"1730\" height=\"417.0\" direction=\"ltr\" style=\"max-width: none; height: 417.0px; color: #000000; background: #ffffff; font-family: Arial; direction: ltr\">\n",
       "<text class=\"displacy-token\" fill=\"currentColor\" text-anchor=\"middle\" y=\"327.0\">\n",
       "    <tspan class=\"displacy-word\" fill=\"currentColor\" x=\"50\">Apple</tspan>\n",
       "    <tspan class=\"displacy-tag\" dy=\"2em\" fill=\"currentColor\" x=\"50\">PROPN</tspan>\n",
       "</text>\n",
       "\n",
       "<text class=\"displacy-token\" fill=\"currentColor\" text-anchor=\"middle\" y=\"327.0\">\n",
       "    <tspan class=\"displacy-word\" fill=\"currentColor\" x=\"190\">is</tspan>\n",
       "    <tspan class=\"displacy-tag\" dy=\"2em\" fill=\"currentColor\" x=\"190\">AUX</tspan>\n",
       "</text>\n",
       "\n",
       "<text class=\"displacy-token\" fill=\"currentColor\" text-anchor=\"middle\" y=\"327.0\">\n",
       "    <tspan class=\"displacy-word\" fill=\"currentColor\" x=\"330\">going</tspan>\n",
       "    <tspan class=\"displacy-tag\" dy=\"2em\" fill=\"currentColor\" x=\"330\">VERB</tspan>\n",
       "</text>\n",
       "\n",
       "<text class=\"displacy-token\" fill=\"currentColor\" text-anchor=\"middle\" y=\"327.0\">\n",
       "    <tspan class=\"displacy-word\" fill=\"currentColor\" x=\"470\">to</tspan>\n",
       "    <tspan class=\"displacy-tag\" dy=\"2em\" fill=\"currentColor\" x=\"470\">PART</tspan>\n",
       "</text>\n",
       "\n",
       "<text class=\"displacy-token\" fill=\"currentColor\" text-anchor=\"middle\" y=\"327.0\">\n",
       "    <tspan class=\"displacy-word\" fill=\"currentColor\" x=\"610\">build</tspan>\n",
       "    <tspan class=\"displacy-tag\" dy=\"2em\" fill=\"currentColor\" x=\"610\">VERB</tspan>\n",
       "</text>\n",
       "\n",
       "<text class=\"displacy-token\" fill=\"currentColor\" text-anchor=\"middle\" y=\"327.0\">\n",
       "    <tspan class=\"displacy-word\" fill=\"currentColor\" x=\"750\">a</tspan>\n",
       "    <tspan class=\"displacy-tag\" dy=\"2em\" fill=\"currentColor\" x=\"750\">DET</tspan>\n",
       "</text>\n",
       "\n",
       "<text class=\"displacy-token\" fill=\"currentColor\" text-anchor=\"middle\" y=\"327.0\">\n",
       "    <tspan class=\"displacy-word\" fill=\"currentColor\" x=\"890\">U.K.</tspan>\n",
       "    <tspan class=\"displacy-tag\" dy=\"2em\" fill=\"currentColor\" x=\"890\">PROPN</tspan>\n",
       "</text>\n",
       "\n",
       "<text class=\"displacy-token\" fill=\"currentColor\" text-anchor=\"middle\" y=\"327.0\">\n",
       "    <tspan class=\"displacy-word\" fill=\"currentColor\" x=\"1030\">factory</tspan>\n",
       "    <tspan class=\"displacy-tag\" dy=\"2em\" fill=\"currentColor\" x=\"1030\">NOUN</tspan>\n",
       "</text>\n",
       "\n",
       "<text class=\"displacy-token\" fill=\"currentColor\" text-anchor=\"middle\" y=\"327.0\">\n",
       "    <tspan class=\"displacy-word\" fill=\"currentColor\" x=\"1170\">for</tspan>\n",
       "    <tspan class=\"displacy-tag\" dy=\"2em\" fill=\"currentColor\" x=\"1170\">ADP</tspan>\n",
       "</text>\n",
       "\n",
       "<text class=\"displacy-token\" fill=\"currentColor\" text-anchor=\"middle\" y=\"327.0\">\n",
       "    <tspan class=\"displacy-word\" fill=\"currentColor\" x=\"1310\">$</tspan>\n",
       "    <tspan class=\"displacy-tag\" dy=\"2em\" fill=\"currentColor\" x=\"1310\">SYM</tspan>\n",
       "</text>\n",
       "\n",
       "<text class=\"displacy-token\" fill=\"currentColor\" text-anchor=\"middle\" y=\"327.0\">\n",
       "    <tspan class=\"displacy-word\" fill=\"currentColor\" x=\"1450\">6</tspan>\n",
       "    <tspan class=\"displacy-tag\" dy=\"2em\" fill=\"currentColor\" x=\"1450\">NUM</tspan>\n",
       "</text>\n",
       "\n",
       "<text class=\"displacy-token\" fill=\"currentColor\" text-anchor=\"middle\" y=\"327.0\">\n",
       "    <tspan class=\"displacy-word\" fill=\"currentColor\" x=\"1590\">million</tspan>\n",
       "    <tspan class=\"displacy-tag\" dy=\"2em\" fill=\"currentColor\" x=\"1590\">NUM</tspan>\n",
       "</text>\n",
       "\n",
       "<g class=\"displacy-arrow\">\n",
       "    <path class=\"displacy-arc\" id=\"arrow-353ef6701c9445d1a3e4d573622509aa-0-0\" stroke-width=\"2px\" d=\"M70,282.0 C70,142.0 320.0,142.0 320.0,282.0\" fill=\"none\" stroke=\"currentColor\"/>\n",
       "    <text dy=\"1.25em\" style=\"font-size: 0.8em; letter-spacing: 1px\">\n",
       "        <textPath xlink:href=\"#arrow-353ef6701c9445d1a3e4d573622509aa-0-0\" class=\"displacy-label\" startOffset=\"50%\" side=\"left\" fill=\"currentColor\" text-anchor=\"middle\">nsubj</textPath>\n",
       "    </text>\n",
       "    <path class=\"displacy-arrowhead\" d=\"M70,284.0 L62,272.0 78,272.0\" fill=\"currentColor\"/>\n",
       "</g>\n",
       "\n",
       "<g class=\"displacy-arrow\">\n",
       "    <path class=\"displacy-arc\" id=\"arrow-353ef6701c9445d1a3e4d573622509aa-0-1\" stroke-width=\"2px\" d=\"M210,282.0 C210,212.0 315.0,212.0 315.0,282.0\" fill=\"none\" stroke=\"currentColor\"/>\n",
       "    <text dy=\"1.25em\" style=\"font-size: 0.8em; letter-spacing: 1px\">\n",
       "        <textPath xlink:href=\"#arrow-353ef6701c9445d1a3e4d573622509aa-0-1\" class=\"displacy-label\" startOffset=\"50%\" side=\"left\" fill=\"currentColor\" text-anchor=\"middle\">aux</textPath>\n",
       "    </text>\n",
       "    <path class=\"displacy-arrowhead\" d=\"M210,284.0 L202,272.0 218,272.0\" fill=\"currentColor\"/>\n",
       "</g>\n",
       "\n",
       "<g class=\"displacy-arrow\">\n",
       "    <path class=\"displacy-arc\" id=\"arrow-353ef6701c9445d1a3e4d573622509aa-0-2\" stroke-width=\"2px\" d=\"M490,282.0 C490,212.0 595.0,212.0 595.0,282.0\" fill=\"none\" stroke=\"currentColor\"/>\n",
       "    <text dy=\"1.25em\" style=\"font-size: 0.8em; letter-spacing: 1px\">\n",
       "        <textPath xlink:href=\"#arrow-353ef6701c9445d1a3e4d573622509aa-0-2\" class=\"displacy-label\" startOffset=\"50%\" side=\"left\" fill=\"currentColor\" text-anchor=\"middle\">aux</textPath>\n",
       "    </text>\n",
       "    <path class=\"displacy-arrowhead\" d=\"M490,284.0 L482,272.0 498,272.0\" fill=\"currentColor\"/>\n",
       "</g>\n",
       "\n",
       "<g class=\"displacy-arrow\">\n",
       "    <path class=\"displacy-arc\" id=\"arrow-353ef6701c9445d1a3e4d573622509aa-0-3\" stroke-width=\"2px\" d=\"M350,282.0 C350,142.0 600.0,142.0 600.0,282.0\" fill=\"none\" stroke=\"currentColor\"/>\n",
       "    <text dy=\"1.25em\" style=\"font-size: 0.8em; letter-spacing: 1px\">\n",
       "        <textPath xlink:href=\"#arrow-353ef6701c9445d1a3e4d573622509aa-0-3\" class=\"displacy-label\" startOffset=\"50%\" side=\"left\" fill=\"currentColor\" text-anchor=\"middle\">xcomp</textPath>\n",
       "    </text>\n",
       "    <path class=\"displacy-arrowhead\" d=\"M600.0,284.0 L608.0,272.0 592.0,272.0\" fill=\"currentColor\"/>\n",
       "</g>\n",
       "\n",
       "<g class=\"displacy-arrow\">\n",
       "    <path class=\"displacy-arc\" id=\"arrow-353ef6701c9445d1a3e4d573622509aa-0-4\" stroke-width=\"2px\" d=\"M770,282.0 C770,142.0 1020.0,142.0 1020.0,282.0\" fill=\"none\" stroke=\"currentColor\"/>\n",
       "    <text dy=\"1.25em\" style=\"font-size: 0.8em; letter-spacing: 1px\">\n",
       "        <textPath xlink:href=\"#arrow-353ef6701c9445d1a3e4d573622509aa-0-4\" class=\"displacy-label\" startOffset=\"50%\" side=\"left\" fill=\"currentColor\" text-anchor=\"middle\">det</textPath>\n",
       "    </text>\n",
       "    <path class=\"displacy-arrowhead\" d=\"M770,284.0 L762,272.0 778,272.0\" fill=\"currentColor\"/>\n",
       "</g>\n",
       "\n",
       "<g class=\"displacy-arrow\">\n",
       "    <path class=\"displacy-arc\" id=\"arrow-353ef6701c9445d1a3e4d573622509aa-0-5\" stroke-width=\"2px\" d=\"M910,282.0 C910,212.0 1015.0,212.0 1015.0,282.0\" fill=\"none\" stroke=\"currentColor\"/>\n",
       "    <text dy=\"1.25em\" style=\"font-size: 0.8em; letter-spacing: 1px\">\n",
       "        <textPath xlink:href=\"#arrow-353ef6701c9445d1a3e4d573622509aa-0-5\" class=\"displacy-label\" startOffset=\"50%\" side=\"left\" fill=\"currentColor\" text-anchor=\"middle\">compound</textPath>\n",
       "    </text>\n",
       "    <path class=\"displacy-arrowhead\" d=\"M910,284.0 L902,272.0 918,272.0\" fill=\"currentColor\"/>\n",
       "</g>\n",
       "\n",
       "<g class=\"displacy-arrow\">\n",
       "    <path class=\"displacy-arc\" id=\"arrow-353ef6701c9445d1a3e4d573622509aa-0-6\" stroke-width=\"2px\" d=\"M630,282.0 C630,72.0 1025.0,72.0 1025.0,282.0\" fill=\"none\" stroke=\"currentColor\"/>\n",
       "    <text dy=\"1.25em\" style=\"font-size: 0.8em; letter-spacing: 1px\">\n",
       "        <textPath xlink:href=\"#arrow-353ef6701c9445d1a3e4d573622509aa-0-6\" class=\"displacy-label\" startOffset=\"50%\" side=\"left\" fill=\"currentColor\" text-anchor=\"middle\">dobj</textPath>\n",
       "    </text>\n",
       "    <path class=\"displacy-arrowhead\" d=\"M1025.0,284.0 L1033.0,272.0 1017.0,272.0\" fill=\"currentColor\"/>\n",
       "</g>\n",
       "\n",
       "<g class=\"displacy-arrow\">\n",
       "    <path class=\"displacy-arc\" id=\"arrow-353ef6701c9445d1a3e4d573622509aa-0-7\" stroke-width=\"2px\" d=\"M630,282.0 C630,2.0 1170.0,2.0 1170.0,282.0\" fill=\"none\" stroke=\"currentColor\"/>\n",
       "    <text dy=\"1.25em\" style=\"font-size: 0.8em; letter-spacing: 1px\">\n",
       "        <textPath xlink:href=\"#arrow-353ef6701c9445d1a3e4d573622509aa-0-7\" class=\"displacy-label\" startOffset=\"50%\" side=\"left\" fill=\"currentColor\" text-anchor=\"middle\">prep</textPath>\n",
       "    </text>\n",
       "    <path class=\"displacy-arrowhead\" d=\"M1170.0,284.0 L1178.0,272.0 1162.0,272.0\" fill=\"currentColor\"/>\n",
       "</g>\n",
       "\n",
       "<g class=\"displacy-arrow\">\n",
       "    <path class=\"displacy-arc\" id=\"arrow-353ef6701c9445d1a3e4d573622509aa-0-8\" stroke-width=\"2px\" d=\"M1330,282.0 C1330,142.0 1580.0,142.0 1580.0,282.0\" fill=\"none\" stroke=\"currentColor\"/>\n",
       "    <text dy=\"1.25em\" style=\"font-size: 0.8em; letter-spacing: 1px\">\n",
       "        <textPath xlink:href=\"#arrow-353ef6701c9445d1a3e4d573622509aa-0-8\" class=\"displacy-label\" startOffset=\"50%\" side=\"left\" fill=\"currentColor\" text-anchor=\"middle\">quantmod</textPath>\n",
       "    </text>\n",
       "    <path class=\"displacy-arrowhead\" d=\"M1330,284.0 L1322,272.0 1338,272.0\" fill=\"currentColor\"/>\n",
       "</g>\n",
       "\n",
       "<g class=\"displacy-arrow\">\n",
       "    <path class=\"displacy-arc\" id=\"arrow-353ef6701c9445d1a3e4d573622509aa-0-9\" stroke-width=\"2px\" d=\"M1470,282.0 C1470,212.0 1575.0,212.0 1575.0,282.0\" fill=\"none\" stroke=\"currentColor\"/>\n",
       "    <text dy=\"1.25em\" style=\"font-size: 0.8em; letter-spacing: 1px\">\n",
       "        <textPath xlink:href=\"#arrow-353ef6701c9445d1a3e4d573622509aa-0-9\" class=\"displacy-label\" startOffset=\"50%\" side=\"left\" fill=\"currentColor\" text-anchor=\"middle\">compound</textPath>\n",
       "    </text>\n",
       "    <path class=\"displacy-arrowhead\" d=\"M1470,284.0 L1462,272.0 1478,272.0\" fill=\"currentColor\"/>\n",
       "</g>\n",
       "\n",
       "<g class=\"displacy-arrow\">\n",
       "    <path class=\"displacy-arc\" id=\"arrow-353ef6701c9445d1a3e4d573622509aa-0-10\" stroke-width=\"2px\" d=\"M1190,282.0 C1190,72.0 1585.0,72.0 1585.0,282.0\" fill=\"none\" stroke=\"currentColor\"/>\n",
       "    <text dy=\"1.25em\" style=\"font-size: 0.8em; letter-spacing: 1px\">\n",
       "        <textPath xlink:href=\"#arrow-353ef6701c9445d1a3e4d573622509aa-0-10\" class=\"displacy-label\" startOffset=\"50%\" side=\"left\" fill=\"currentColor\" text-anchor=\"middle\">pobj</textPath>\n",
       "    </text>\n",
       "    <path class=\"displacy-arrowhead\" d=\"M1585.0,284.0 L1593.0,272.0 1577.0,272.0\" fill=\"currentColor\"/>\n",
       "</g>\n",
       "</svg></span>"
      ],
      "text/plain": [
       "<IPython.core.display.HTML object>"
      ]
     },
     "metadata": {},
     "output_type": "display_data"
    }
   ],
   "source": [
    "displacy.render(doc,style='dep',jupyter=True,options={'distance':140})"
   ]
  },
  {
   "cell_type": "code",
   "execution_count": 51,
   "id": "b64586e3-bf13-4fff-86f0-d8984b751edb",
   "metadata": {},
   "outputs": [],
   "source": [
    "doc = nlp(\"Over the last quarter Apple sold nearly 20 thousand iPods for a profit of $6 million.\")"
   ]
  },
  {
   "cell_type": "code",
   "execution_count": 52,
   "id": "17bf1fcd-56d8-45c1-a190-ac063b2d4acc",
   "metadata": {},
   "outputs": [
    {
     "data": {
      "text/html": [
       "<span class=\"tex2jax_ignore\"><div class=\"entities\" style=\"line-height: 2.5; direction: ltr\">Over \n",
       "<mark class=\"entity\" style=\"background: #bfe1d9; padding: 0.45em 0.6em; margin: 0 0.25em; line-height: 1; border-radius: 0.35em;\">\n",
       "    the last quarter\n",
       "    <span style=\"font-size: 0.8em; font-weight: bold; line-height: 1; border-radius: 0.35em; vertical-align: middle; margin-left: 0.5rem\">DATE</span>\n",
       "</mark>\n",
       " \n",
       "<mark class=\"entity\" style=\"background: #7aecec; padding: 0.45em 0.6em; margin: 0 0.25em; line-height: 1; border-radius: 0.35em;\">\n",
       "    Apple\n",
       "    <span style=\"font-size: 0.8em; font-weight: bold; line-height: 1; border-radius: 0.35em; vertical-align: middle; margin-left: 0.5rem\">ORG</span>\n",
       "</mark>\n",
       " sold \n",
       "<mark class=\"entity\" style=\"background: #e4e7d2; padding: 0.45em 0.6em; margin: 0 0.25em; line-height: 1; border-radius: 0.35em;\">\n",
       "    nearly 20 thousand\n",
       "    <span style=\"font-size: 0.8em; font-weight: bold; line-height: 1; border-radius: 0.35em; vertical-align: middle; margin-left: 0.5rem\">CARDINAL</span>\n",
       "</mark>\n",
       " \n",
       "<mark class=\"entity\" style=\"background: #bfeeb7; padding: 0.45em 0.6em; margin: 0 0.25em; line-height: 1; border-radius: 0.35em;\">\n",
       "    iPods\n",
       "    <span style=\"font-size: 0.8em; font-weight: bold; line-height: 1; border-radius: 0.35em; vertical-align: middle; margin-left: 0.5rem\">PRODUCT</span>\n",
       "</mark>\n",
       " for a profit of \n",
       "<mark class=\"entity\" style=\"background: #e4e7d2; padding: 0.45em 0.6em; margin: 0 0.25em; line-height: 1; border-radius: 0.35em;\">\n",
       "    $6 million\n",
       "    <span style=\"font-size: 0.8em; font-weight: bold; line-height: 1; border-radius: 0.35em; vertical-align: middle; margin-left: 0.5rem\">MONEY</span>\n",
       "</mark>\n",
       ".</div></span>"
      ],
      "text/plain": [
       "<IPython.core.display.HTML object>"
      ]
     },
     "metadata": {},
     "output_type": "display_data"
    }
   ],
   "source": [
    "displacy.render(doc,style='ent',jupyter=True)"
   ]
  },
  {
   "cell_type": "markdown",
   "id": "cdf44e5d-5226-4e11-b735-5f93b898eaa9",
   "metadata": {},
   "source": [
    "---\n",
    "\n",
    "- For More details on Spacy Visualizer click on below link\n",
    "\n",
    "  [Spacy Visualizers](https://spacy.io/usage/visualizers)"
   ]
  },
  {
   "cell_type": "code",
   "execution_count": null,
   "id": "c8f62324-447e-4c0a-ad89-4665bc71b3fb",
   "metadata": {},
   "outputs": [],
   "source": []
  },
  {
   "cell_type": "code",
   "execution_count": null,
   "id": "3698a2f2-59ec-4e31-9b95-3c087488fb0a",
   "metadata": {},
   "outputs": [],
   "source": []
  }
 ],
 "metadata": {
  "kernelspec": {
   "display_name": "Python [conda env:nlp-env]",
   "language": "python",
   "name": "conda-env-nlp-env-py"
  },
  "language_info": {
   "codemirror_mode": {
    "name": "ipython",
    "version": 3
   },
   "file_extension": ".py",
   "mimetype": "text/x-python",
   "name": "python",
   "nbconvert_exporter": "python",
   "pygments_lexer": "ipython3",
   "version": "3.10.18"
  }
 },
 "nbformat": 4,
 "nbformat_minor": 5
}
