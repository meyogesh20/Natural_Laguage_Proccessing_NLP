{
 "cells": [
  {
   "cell_type": "markdown",
   "id": "0151eacb",
   "metadata": {},
   "source": [
    "# 🧵 Python Regex"
   ]
  },
  {
   "cell_type": "code",
   "execution_count": null,
   "id": "3c46e27c",
   "metadata": {},
   "outputs": [],
   "source": [
    "import re"
   ]
  },
  {
   "cell_type": "markdown",
   "id": "14fe88fc",
   "metadata": {},
   "source": [
    "## 🧩 1. Basic Functions\n",
    "\n",
    "| Function | Description |\n",
    "|---------|-------------|\n",
    "| `re.search()` | Finds the **first match** |\n",
    "| `re.findall()` | Returns **all matches** |\n",
    "| `re.match()` | Matches **only at start** |\n",
    "| `re.sub()` | **Replaces** matches |\n",
    "| `re.split()` | **Splits** on pattern |"
   ]
  },
  {
   "cell_type": "code",
   "execution_count": null,
   "id": "d5a69a34",
   "metadata": {},
   "outputs": [],
   "source": [
    "text = \"Email: test123@example.com, phone: 9876543210\"\n",
    "\n",
    "re.search(r'\\d+', text)      # First number\n",
    "re.findall(r'\\w+@\\w+\\.\\w+', text)  # All emails\n",
    "re.sub(r'\\d+', '###', text)  # Replace all numbers\n",
    "re.split(r',\\s*', text)      # Split on comma"
   ]
  },
  {
   "cell_type": "markdown",
   "id": "47d1a75f",
   "metadata": {},
   "source": [
    "## 🔡 2. Metacharacters\n",
    "\n",
    "| Symbol | Meaning | Example | Matches |\n",
    "|--------|---------|---------|---------|\n",
    "| `.`     | Any char except newline | `a.c` | `abc`, `a7c` |\n",
    "| `^`     | Start of string         | `^Hi` | `Hi there` |\n",
    "| `$`     | End of string           | `end$`| `The end` |\n",
    "| `[]`    | Match any char in set   | `[aeiou]` | vowels |\n",
    "| `[^]`   | Not in set              | `[^0-9]` | non-digits |"
   ]
  },
  {
   "cell_type": "markdown",
   "id": "2b7e7cf8",
   "metadata": {},
   "source": [
    "## 🔢 3. Quantifiers\n",
    "\n",
    "| Symbol | Meaning | Example | Matches |\n",
    "|--------|---------|---------|---------|\n",
    "| `*` | 0 or more | `ab*` | `a`, `ab`, `abbb` |\n",
    "| `+` | 1 or more | `ab+` | `ab`, `abbb` |\n",
    "| `?` | 0 or 1    | `ab?` | `a`, `ab` |\n",
    "| `{n}` | Exactly n | `a{3}` | `aaa` |\n",
    "| `{n,}`| n or more | `a{2,}` | `aa`, `aaa` |\n",
    "| `{n,m}`| Between n and m | `a{2,4}` | `aa`, `aaa`, `aaaa` |"
   ]
  },
  {
   "cell_type": "markdown",
   "id": "1f96956d",
   "metadata": {},
   "source": [
    "## 🔠 4. Character Classes\n",
    "\n",
    "| Class | Matches |\n",
    "|-------|---------|\n",
    "| `\\d`  | Digit (0-9) |\n",
    "| `\\D`  | Non-digit |\n",
    "| `\\w`  | Word (a-z, A-Z, 0-9, _) |\n",
    "| `\\W`  | Non-word |\n",
    "| `\\s`  | Whitespace |\n",
    "| `\\S`  | Non-whitespace |"
   ]
  },
  {
   "cell_type": "code",
   "execution_count": null,
   "id": "000dea7a",
   "metadata": {},
   "outputs": [],
   "source": [
    "re.findall(r'\\d+', \"My pin is 400088\")  # ['400088']"
   ]
  },
  {
   "cell_type": "markdown",
   "id": "63378647",
   "metadata": {},
   "source": [
    "## 🧪 5. Grouping & Alternation\n",
    "\n",
    "### 🔹 Grouping: `( )`"
   ]
  },
  {
   "cell_type": "code",
   "execution_count": null,
   "id": "7ff40702",
   "metadata": {},
   "outputs": [],
   "source": [
    "re.findall(r'(ab)+', \"ababab\")"
   ]
  },
  {
   "cell_type": "markdown",
   "id": "c8e6f279",
   "metadata": {},
   "source": [
    "### 🔹 Alternation: `|`"
   ]
  },
  {
   "cell_type": "code",
   "execution_count": null,
   "id": "9bbb8b92",
   "metadata": {},
   "outputs": [],
   "source": [
    "re.findall(r'cat|dog', \"I have a cat and a dog.\")"
   ]
  },
  {
   "cell_type": "markdown",
   "id": "dee77c9c",
   "metadata": {},
   "source": [
    "## ⚙️ 6. Anchors\n",
    "\n",
    "| Anchor | Meaning |\n",
    "|--------|---------|\n",
    "| `^`    | Start of string |\n",
    "| `$`    | End of string |\n",
    "| `\\b`   | Word boundary |\n",
    "| `\\B`   | Non-word boundary |"
   ]
  },
  {
   "cell_type": "code",
   "execution_count": null,
   "id": "8f574243",
   "metadata": {},
   "outputs": [],
   "source": [
    "re.findall(r'\\bcat\\b', \"dogcat cats cat.\")"
   ]
  },
  {
   "cell_type": "markdown",
   "id": "dbc01f8c",
   "metadata": {},
   "source": [
    "## 🧼 7. Substitution & Cleaning"
   ]
  },
  {
   "cell_type": "code",
   "execution_count": null,
   "id": "8258e3ba",
   "metadata": {},
   "outputs": [],
   "source": [
    "text = \"Price: ₹500, ₹600, ₹750\"\n",
    "cleaned = re.sub(r'[₹,]', '', text)\n",
    "print(cleaned)  # 'Price: 500 600 750'"
   ]
  },
  {
   "cell_type": "markdown",
   "id": "9a958895",
   "metadata": {},
   "source": [
    "## 🎯 8. Common Use Cases"
   ]
  },
  {
   "cell_type": "code",
   "execution_count": null,
   "id": "c84f5751",
   "metadata": {},
   "outputs": [],
   "source": [
    "# ✅ Validate Email\n",
    "re.match(r'^\\w+[\\w.-]*@\\w+\\.\\w{2,4}$', 'test@example.com')"
   ]
  },
  {
   "cell_type": "code",
   "execution_count": null,
   "id": "b5950011",
   "metadata": {},
   "outputs": [],
   "source": [
    "# ✅ Extract Phone Numbers\n",
    "re.findall(r'\\b\\d{10}\\b', \"Call me at 9876543210 or 8123456789\")"
   ]
  },
  {
   "cell_type": "code",
   "execution_count": null,
   "id": "4aba8684",
   "metadata": {},
   "outputs": [],
   "source": [
    "# ✅ Remove Special Characters\n",
    "re.sub(r'[^\\w\\s]', '', \"Hello @#World!!\")  # 'Hello World'"
   ]
  },
  {
   "cell_type": "markdown",
   "id": "83105cd3",
   "metadata": {},
   "source": [
    "## 📌 Tips\n",
    "- Use `r''` (raw strings) to avoid escape confusion.\n",
    "- Debug regex at [regex101.com](https://regex101.com)"
   ]
  },
  {
   "cell_type": "markdown",
   "id": "41b8c1bc",
   "metadata": {},
   "source": [
    "## 📚 Optional: Compile Patterns (for repeated use)"
   ]
  },
  {
   "cell_type": "code",
   "execution_count": null,
   "id": "0193f00c",
   "metadata": {},
   "outputs": [],
   "source": [
    "pattern = re.compile(r'\\d+')\n",
    "pattern.findall(\"There are 24 apples and 30 bananas\")"
   ]
  }
 ],
 "metadata": {
  "language_info": {
   "name": "python"
  }
 },
 "nbformat": 4,
 "nbformat_minor": 5
}
