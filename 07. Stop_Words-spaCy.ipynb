{
 "cells": [
  {
   "cell_type": "markdown",
   "id": "bef64d4e-057f-452a-b46f-198551cee4c1",
   "metadata": {},
   "source": [
    "# Stop Words"
   ]
  },
  {
   "cell_type": "markdown",
   "id": "bb747e66-423b-40c1-9d2f-2cc29bfacc09",
   "metadata": {},
   "source": [
    "1. Words like 'a' and 'the' appears so frequently that they don't require taggin as thoroughly as nouns, verbs and modifiers.\n",
    "2. we call these stop words, and they can be filtered from the text to be processed.\n",
    "3. Spacy holds a built-in list of some 326 English stop words.\n"
   ]
  },
  {
   "cell_type": "code",
   "execution_count": 4,
   "id": "9037f471-dbbb-4d68-a995-746a5ef225d8",
   "metadata": {},
   "outputs": [],
   "source": [
    "import spacy\n",
    "nlp = spacy.load('en_core_web_sm')"
   ]
  },
  {
   "cell_type": "code",
   "execution_count": 5,
   "id": "35fb663f-88ac-4981-9142-d1dfbadafbdf",
   "metadata": {},
   "outputs": [
    {
     "name": "stdout",
     "output_type": "stream",
     "text": [
      "{'together', 'the', '‘s', 'his', 'against', 'six', 'or', 'move', 'top', 'until', 'various', 'without', 'does', 'n‘t', 'ours', '‘ll', 'make', 'again', 'nothing', '’s', 'she', 'up', '’re', 'every', 'your', 'them', 'nine', 'than', 'yours', 'their', 'both', 'may', 'had', 'whither', 'almost', 'few', 'take', 'a', 'well', 'whereby', 'therein', '‘re', 'however', '‘d', 'show', 'everywhere', 'own', 'everyone', 'yet', 'somehow', 'nobody', 'we', 'hereafter', 'due', 'be', 'cannot', 'now', 'anyway', 'even', 'over', 'several', 'never', '‘ve', \"'s\", 'whenever', 'latterly', 'anyhow', 'off', \"'d\", 'any', 'below', 'me', 'beside', 'yourselves', 'side', 'in', 'her', 'sixty', 'fifteen', 'really', \"'m\", 'out', 'can', 'my', 'mine', 'another', 'after', 'beforehand', 'first', 'been', 'but', 'elsewhere', 'under', 're', 'empty', 'whoever', 'five', 'herself', '’ll', 'seemed', 'am', 'about', 'above', 'whereupon', 'otherwise', 'twenty', 'beyond', 'bottom', 'only', 'upon', 'done', 'forty', 'there', 'fifty', 'neither', 'three', 'rather', 'go', 'latter', 'i', 'not', 'from', 'becoming', 'down', 'might', 'being', 'behind', 'thence', 'made', 'anyone', 'n’t', 'quite', 'doing', 'our', 'what', 'indeed', 'must', 'else', 'eight', 'hereby', 'wherein', 'hers', 'too', 'and', 'besides', 'before', 'much', 'that', 'whereas', 'whereafter', 'least', 'afterwards', 'one', 'twelve', 'among', 'toward', 'some', 'it', 'how', 'formerly', 'say', 'into', 'seems', \"n't\", 'are', 'since', 'wherever', 'ten', 'while', 'although', 'most', 'whence', 'call', 'within', 'is', 'thereby', 'along', 'they', 'as', 'then', 'once', 'himself', 'using', 'myself', 'ourselves', 'whose', 'its', \"'ll\", 'though', 'please', 'used', 'part', 'hereupon', 'could', 'all', 'becomes', 'therefore', 'have', 'name', 'no', 'see', 'thru', 'alone', 'further', 'thereafter', 'amongst', 'because', 'nor', 'seeming', 'unless', 'two', 'such', 'across', 'next', 'he', 'to', 'by', 'via', 'thereupon', 'seem', 'themselves', 'hundred', 'so', 'throughout', 'eleven', 'others', 'which', 'more', 'sometimes', 'hence', 'someone', 'give', 'front', \"'re\", 'already', 'nowhere', 'through', 'still', 'do', 'less', 'at', 'sometime', 'why', '’d', 'between', 'namely', 'herein', 'him', \"'ve\", 'would', 'ca', 'back', 'each', 'somewhere', 'around', 'where', 'keep', 'thus', 'mostly', 'when', 'for', 'four', 'moreover', 'yourself', 'third', 'were', 'none', 'noone', 'whatever', 'many', 'here', 'per', 'became', 'ever', 'will', '’ve', 'those', 'during', 'itself', 'onto', 'this', 'something', 'anywhere', 'perhaps', 'become', 'has', 'anything', '‘m', 'whether', 'did', 'always', 'on', 'you', 'these', 'very', 'enough', 'former', 'put', 'should', '’m', 'with', 'meanwhile', 'whom', 'regarding', 'just', 'of', 'same', 'often', 'nevertheless', 'amount', 'last', 'either', 'was', 'towards', 'serious', 'other', 'who', 'us', 'whole', 'if', 'except', 'full', 'get', 'also', 'an', 'everything'}\n"
     ]
    }
   ],
   "source": [
    "print(nlp.Defaults.stop_words)"
   ]
  },
  {
   "cell_type": "code",
   "execution_count": 6,
   "id": "bda0c083-61a3-4f6f-b600-d18ff26ea64e",
   "metadata": {},
   "outputs": [
    {
     "data": {
      "text/plain": [
       "326"
      ]
     },
     "execution_count": 6,
     "metadata": {},
     "output_type": "execute_result"
    }
   ],
   "source": [
    "len(nlp.Defaults.stop_words)"
   ]
  },
  {
   "cell_type": "code",
   "execution_count": 7,
   "id": "e22ea519-9222-42a0-8890-24fb9e83db7f",
   "metadata": {},
   "outputs": [
    {
     "data": {
      "text/plain": [
       "True"
      ]
     },
     "execution_count": 7,
     "metadata": {},
     "output_type": "execute_result"
    }
   ],
   "source": [
    "# Now to check whether the word is stop word or not\n",
    "nlp.vocab['is'].is_stop"
   ]
  },
  {
   "cell_type": "code",
   "execution_count": 8,
   "id": "37787486-f337-4592-94c9-467ed0261f14",
   "metadata": {},
   "outputs": [
    {
     "data": {
      "text/plain": [
       "False"
      ]
     },
     "execution_count": 8,
     "metadata": {},
     "output_type": "execute_result"
    }
   ],
   "source": [
    "nlp.vocab['U.S'].is_stop"
   ]
  },
  {
   "cell_type": "markdown",
   "id": "7128a4c4-e8fb-4e64-9770-96a30dcb4ff8",
   "metadata": {},
   "source": [
    "## We can add stop_words to default list.\n",
    "> Adding word *add()* and setting *is_stop* attribute is mandatory\n",
    "```python\n",
    "    # Added user stop word to the list.\n",
    "    nlp.Defaults.stop_words.add('btw')\n",
    "    \n",
    "    # Set is_stop attribute to True\n",
    "    nlp.vocab['btw'].is_stop = True\n",
    "```"
   ]
  },
  {
   "cell_type": "code",
   "execution_count": 10,
   "id": "6f10a404-6878-4bb7-baa3-ec1ac34adb8a",
   "metadata": {},
   "outputs": [
    {
     "data": {
      "text/plain": [
       "327"
      ]
     },
     "execution_count": 10,
     "metadata": {},
     "output_type": "execute_result"
    }
   ],
   "source": [
    " # Added user stop word to the list.\n",
    "nlp.Defaults.stop_words.add('btw')\n",
    "\n",
    "# Set is_stop attribute to True\n",
    "nlp.vocab['btw'].is_stop = True\n",
    "\n",
    "# Check the len(stop_words), it must be +1 than before.\n",
    "len(nlp.Defaults.stop_words)"
   ]
  },
  {
   "cell_type": "code",
   "execution_count": 11,
   "id": "d20c81b8-655e-4a41-8219-6b5fd7b653a0",
   "metadata": {},
   "outputs": [
    {
     "data": {
      "text/plain": [
       "True"
      ]
     },
     "execution_count": 11,
     "metadata": {},
     "output_type": "execute_result"
    }
   ],
   "source": [
    "# check for it's property\n",
    "nlp.vocab['btw'].is_stop"
   ]
  },
  {
   "cell_type": "markdown",
   "id": "3db7ce46-60f8-46f1-ae54-959e104ae207",
   "metadata": {},
   "source": [
    "# Similarly, we can remove the word from the stop list. "
   ]
  },
  {
   "cell_type": "code",
   "execution_count": 13,
   "id": "03c6af26-92c1-41b8-b7b3-82dc8b7c4b90",
   "metadata": {},
   "outputs": [
    {
     "name": "stdout",
     "output_type": "stream",
     "text": [
      "Check 'hundred' is the stop word : True\n",
      "Remove the 'hunderd' from the stop_word list\n",
      "326\n",
      "Check 'hundred' is the stop word : False\n"
     ]
    }
   ],
   "source": [
    "# Check for stop_word\n",
    "print(\"Check 'hundred' is the stop word :\",nlp.vocab['hundred'].is_stop)\n",
    "print(\"Remove the 'hunderd' from the stop_word list\")\n",
    "# .remove(stp_wrd)\n",
    "nlp.Defaults.stop_words.remove('hundred')\n",
    "\n",
    "# set attribute is_stop = False\n",
    "nlp.vocab['hundred'].is_stop = False\n",
    "\n",
    "# Check for the number of items in list.\n",
    "print(len(nlp.Defaults.stop_words))\n",
    "print(\"Check 'hundred' is the stop word :\", nlp.vocab['hundred'].is_stop)"
   ]
  },
  {
   "cell_type": "code",
   "execution_count": 14,
   "id": "bc5c9749-421e-410c-aeca-91e0c074ae8b",
   "metadata": {},
   "outputs": [],
   "source": [
    "# Add the removed words back to the list and set is_stop = True \n",
    "nlp.Defaults.stop_words.add('hundred')\n",
    "nlp.vocab['hundred'].is_stop = True"
   ]
  },
  {
   "cell_type": "code",
   "execution_count": null,
   "id": "8c08e709-0f6a-419c-b42a-af6d62c40d83",
   "metadata": {},
   "outputs": [],
   "source": []
  },
  {
   "cell_type": "code",
   "execution_count": null,
   "id": "6f05a4ef-27c4-4440-b109-a3ef6c814f24",
   "metadata": {},
   "outputs": [],
   "source": []
  }
 ],
 "metadata": {
  "kernelspec": {
   "display_name": "Python [conda env:nlp-env]",
   "language": "python",
   "name": "conda-env-nlp-env-py"
  },
  "language_info": {
   "codemirror_mode": {
    "name": "ipython",
    "version": 3
   },
   "file_extension": ".py",
   "mimetype": "text/x-python",
   "name": "python",
   "nbconvert_exporter": "python",
   "pygments_lexer": "ipython3",
   "version": "3.10.18"
  }
 },
 "nbformat": 4,
 "nbformat_minor": 5
}
