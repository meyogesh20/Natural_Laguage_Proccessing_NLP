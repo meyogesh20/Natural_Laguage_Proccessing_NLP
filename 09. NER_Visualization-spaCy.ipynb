{
 "cells": [
  {
   "cell_type": "markdown",
   "id": "402ef28f-cacf-4c50-8f61-263c4946a7ef",
   "metadata": {},
   "source": [
    "# 📚 Named Entity Recognition (NER) and Visualization using spaCy\n",
    "\n",
    "## 🧠 What is Named Entity Recognition?\n",
    "\n",
    "**Named Entity Recognition (NER)** is a sub-task of information extraction that classifies named entities in text into pre-defined categories such as:\n",
    "- **Person (PERSON)**\n",
    "- **Organization (ORG)**\n",
    "- **Location (GPE, LOC)**\n",
    "- **Date, Time (DATE, TIME)**\n",
    "- **Money, Quantity (MONEY, QUANTITY)**, etc...\n",
    "\n",
    "\n",
    "NER helps in structuring unstructured data for downstream tasks like:\n",
    "- Text classification\n",
    "- Question answering\n",
    "- Knowledge graph construction\n",
    "- Resume parsing\n",
    "- Customer feedback analysis\n",
    "\n",
    "---\n",
    "- Named Entity Recognition with spaCy is a powerful technique to convert raw text into structured, meaningful data.\n",
    "- Visualizing it with displacy makes it even more intuitive and helpful for exploration or presentation.\n",
    "\n",
    "---\n",
    "## 🔧 Installation and Setup\n",
    "\n",
    "Make sure `spaCy` is installed and the English model is loaded.\n",
    "\n",
    "```python\n",
    "!pip install spacy\n",
    "!python -m spacy download en_core_web_sm\n"
   ]
  },
  {
   "cell_type": "markdown",
   "id": "7a198d92-ee3c-4988-9786-feb6a02106a0",
   "metadata": {},
   "source": [
    "# 🔍 Use Case: Analyzing Business News\n",
    "- Let’s say you are building a financial news summarizer. NER can help you extract companies, money, products, and locations to highlight key entities involved.\n",
    "### 🧪 Example: Perform and Visualize NER"
   ]
  },
  {
   "cell_type": "code",
   "execution_count": 3,
   "id": "7bb3bbb6-a3c8-45f7-a170-062fadaf9734",
   "metadata": {},
   "outputs": [],
   "source": [
    "import spacy\n",
    "from spacy import displacy\n",
    "\n",
    "# Load spaCy model\n",
    "nlp = spacy.load(\"en_core_web_sm\")"
   ]
  },
  {
   "cell_type": "code",
   "execution_count": 4,
   "id": "8c120bd7-e3d2-44ca-bb2c-12585859ce22",
   "metadata": {},
   "outputs": [
    {
     "name": "stdout",
     "output_type": "stream",
     "text": [
      "Named Entities, Phrases, and Labels:\n",
      "\n",
      "Tesla Inc.                      |  ORG         |  Companies, agencies, institutions, etc.\n",
      "U.S.                            |  GPE         |  Countries, cities, states\n",
      "$2.3 billion                    |  MONEY       |  Monetary values, including unit\n",
      "December 2025                   |  DATE        |  Absolute or relative dates or periods\n",
      "Elon Musk                       |  PERSON      |  People, including fictional\n",
      "Tesla                           |  ORG         |  Companies, agencies, institutions, etc.\n",
      "Germany                         |  GPE         |  Countries, cities, states\n"
     ]
    }
   ],
   "source": [
    "\n",
    "# Sample text\n",
    "text = \"\"\"\n",
    "Tesla Inc. is planning to acquire a U.S. -based battery manufacturer for $2.3 billion.\n",
    "The deal is expected to close by December 2025, according to Elon Musk.\n",
    "The acquisition aims to boost Tesla's electric vehicle production in Germany.\n",
    "\"\"\"\n",
    "\n",
    "# Process text\n",
    "doc = nlp(text)\n",
    "\n",
    "# Print named entities with labels and explanation\n",
    "print(\"Named Entities, Phrases, and Labels:\\n\")\n",
    "for ent in doc.ents:\n",
    "    print(f\"{ent.text:<30}  |  {ent.label_:<10}  |  {spacy.explain(ent.label_)}\")"
   ]
  },
  {
   "cell_type": "code",
   "execution_count": 5,
   "id": "f9665ff9-1269-420c-8f0a-229b2106383e",
   "metadata": {},
   "outputs": [
    {
     "data": {
      "text/html": [
       "<span class=\"tex2jax_ignore\"><div class=\"entities\" style=\"line-height: 2.5; direction: ltr\"><br>\n",
       "<mark class=\"entity\" style=\"background: #7aecec; padding: 0.45em 0.6em; margin: 0 0.25em; line-height: 1; border-radius: 0.35em;\">\n",
       "    Tesla Inc.\n",
       "    <span style=\"font-size: 0.8em; font-weight: bold; line-height: 1; border-radius: 0.35em; vertical-align: middle; margin-left: 0.5rem\">ORG</span>\n",
       "</mark>\n",
       " is planning to acquire a \n",
       "<mark class=\"entity\" style=\"background: #feca74; padding: 0.45em 0.6em; margin: 0 0.25em; line-height: 1; border-radius: 0.35em;\">\n",
       "    U.S.\n",
       "    <span style=\"font-size: 0.8em; font-weight: bold; line-height: 1; border-radius: 0.35em; vertical-align: middle; margin-left: 0.5rem\">GPE</span>\n",
       "</mark>\n",
       " -based battery manufacturer for \n",
       "<mark class=\"entity\" style=\"background: #e4e7d2; padding: 0.45em 0.6em; margin: 0 0.25em; line-height: 1; border-radius: 0.35em;\">\n",
       "    $2.3 billion\n",
       "    <span style=\"font-size: 0.8em; font-weight: bold; line-height: 1; border-radius: 0.35em; vertical-align: middle; margin-left: 0.5rem\">MONEY</span>\n",
       "</mark>\n",
       ".<br>The deal is expected to close by \n",
       "<mark class=\"entity\" style=\"background: #bfe1d9; padding: 0.45em 0.6em; margin: 0 0.25em; line-height: 1; border-radius: 0.35em;\">\n",
       "    December 2025\n",
       "    <span style=\"font-size: 0.8em; font-weight: bold; line-height: 1; border-radius: 0.35em; vertical-align: middle; margin-left: 0.5rem\">DATE</span>\n",
       "</mark>\n",
       ", according to \n",
       "<mark class=\"entity\" style=\"background: #aa9cfc; padding: 0.45em 0.6em; margin: 0 0.25em; line-height: 1; border-radius: 0.35em;\">\n",
       "    Elon Musk\n",
       "    <span style=\"font-size: 0.8em; font-weight: bold; line-height: 1; border-radius: 0.35em; vertical-align: middle; margin-left: 0.5rem\">PERSON</span>\n",
       "</mark>\n",
       ".<br>The acquisition aims to boost \n",
       "<mark class=\"entity\" style=\"background: #7aecec; padding: 0.45em 0.6em; margin: 0 0.25em; line-height: 1; border-radius: 0.35em;\">\n",
       "    Tesla\n",
       "    <span style=\"font-size: 0.8em; font-weight: bold; line-height: 1; border-radius: 0.35em; vertical-align: middle; margin-left: 0.5rem\">ORG</span>\n",
       "</mark>\n",
       "'s electric vehicle production in \n",
       "<mark class=\"entity\" style=\"background: #feca74; padding: 0.45em 0.6em; margin: 0 0.25em; line-height: 1; border-radius: 0.35em;\">\n",
       "    Germany\n",
       "    <span style=\"font-size: 0.8em; font-weight: bold; line-height: 1; border-radius: 0.35em; vertical-align: middle; margin-left: 0.5rem\">GPE</span>\n",
       "</mark>\n",
       ".<br></div></span>"
      ],
      "text/plain": [
       "<IPython.core.display.HTML object>"
      ]
     },
     "metadata": {},
     "output_type": "display_data"
    }
   ],
   "source": [
    "# Visualize entities in a Jupyter notebook\n",
    "displacy.render(doc, style=\"ent\", jupyter=True)"
   ]
  },
  {
   "cell_type": "code",
   "execution_count": 6,
   "id": "a5b39f9c-d64f-4e20-9a6d-7c592301e907",
   "metadata": {},
   "outputs": [
    {
     "data": {
      "text/html": [
       "<span class=\"tex2jax_ignore\"><div class=\"entities\" style=\"line-height: 2.5; direction: ltr\"><br>\n",
       "<mark class=\"entity\" style=\"background: linear-gradient(90deg, #aa9cfc, #fc9ce7); padding: 0.45em 0.6em; margin: 0 0.25em; line-height: 1; border-radius: 0.35em;\">\n",
       "    Tesla Inc.\n",
       "    <span style=\"font-size: 0.8em; font-weight: bold; line-height: 1; border-radius: 0.35em; vertical-align: middle; margin-left: 0.5rem\">ORG</span>\n",
       "</mark>\n",
       " is planning to acquire a \n",
       "<mark class=\"entity\" style=\"background: #feca74; padding: 0.45em 0.6em; margin: 0 0.25em; line-height: 1; border-radius: 0.35em;\">\n",
       "    U.S.\n",
       "    <span style=\"font-size: 0.8em; font-weight: bold; line-height: 1; border-radius: 0.35em; vertical-align: middle; margin-left: 0.5rem\">GPE</span>\n",
       "</mark>\n",
       " -based battery manufacturer for $2.3 billion.<br>The deal is expected to close by December 2025, according to Elon Musk.<br>The acquisition aims to boost \n",
       "<mark class=\"entity\" style=\"background: linear-gradient(90deg, #aa9cfc, #fc9ce7); padding: 0.45em 0.6em; margin: 0 0.25em; line-height: 1; border-radius: 0.35em;\">\n",
       "    Tesla\n",
       "    <span style=\"font-size: 0.8em; font-weight: bold; line-height: 1; border-radius: 0.35em; vertical-align: middle; margin-left: 0.5rem\">ORG</span>\n",
       "</mark>\n",
       "'s electric vehicle production in \n",
       "<mark class=\"entity\" style=\"background: #feca74; padding: 0.45em 0.6em; margin: 0 0.25em; line-height: 1; border-radius: 0.35em;\">\n",
       "    Germany\n",
       "    <span style=\"font-size: 0.8em; font-weight: bold; line-height: 1; border-radius: 0.35em; vertical-align: middle; margin-left: 0.5rem\">GPE</span>\n",
       "</mark>\n",
       ".<br></div></span>"
      ],
      "text/plain": [
       "<IPython.core.display.HTML object>"
      ]
     },
     "metadata": {},
     "output_type": "display_data"
    }
   ],
   "source": [
    "colors = {'ORG':'linear-gradient(90deg, #aa9cfc, #fc9ce7)'}\n",
    "options = {'ents':['GPE','ORG'],'colors':colors}\n",
    "displacy.render(doc,style='ent',jupyter=True,options=options)"
   ]
  },
  {
   "cell_type": "code",
   "execution_count": 14,
   "id": "36db8263-16e8-42c9-a9f6-b7d97b7129e3",
   "metadata": {},
   "outputs": [],
   "source": [
    "# displacy.serve(doc,style='ent',options=options)\n",
    "\n",
    "# go the default port\n",
    "# http://127.0.0.1:5000/"
   ]
  },
  {
   "cell_type": "markdown",
   "id": "8e38aac4-5a80-472b-b23b-f6b85d4349b6",
   "metadata": {},
   "source": [
    "## ✅ Tips for Real-World Usage\n",
    "- Use doc.ents to loop through all detected entities.\n",
    "- You can filter entities based on ent.label_ for tasks like:\n",
    "    - Extracting only MONEY for financial apps\n",
    "    - Extracting PERSON and ORG for news aggregators\n",
    "- You can train custom NER models if built-in categories don’t match your domain."
   ]
  },
  {
   "cell_type": "markdown",
   "id": "eef60291-5121-47e3-bd7d-7f866ad83e8d",
   "metadata": {},
   "source": [
    "# 🧠 Bonus: Display Entities as a Table"
   ]
  },
  {
   "cell_type": "code",
   "execution_count": 17,
   "id": "ab0ff79f-2b70-438c-afc2-f29146d033d6",
   "metadata": {},
   "outputs": [
    {
     "data": {
      "text/html": [
       "<div>\n",
       "<style scoped>\n",
       "    .dataframe tbody tr th:only-of-type {\n",
       "        vertical-align: middle;\n",
       "    }\n",
       "\n",
       "    .dataframe tbody tr th {\n",
       "        vertical-align: top;\n",
       "    }\n",
       "\n",
       "    .dataframe thead th {\n",
       "        text-align: right;\n",
       "    }\n",
       "</style>\n",
       "<table border=\"1\" class=\"dataframe\">\n",
       "  <thead>\n",
       "    <tr style=\"text-align: right;\">\n",
       "      <th></th>\n",
       "      <th>Entity</th>\n",
       "      <th>Label</th>\n",
       "      <th>Description</th>\n",
       "    </tr>\n",
       "  </thead>\n",
       "  <tbody>\n",
       "    <tr>\n",
       "      <th>0</th>\n",
       "      <td>Tesla Inc.</td>\n",
       "      <td>ORG</td>\n",
       "      <td>Companies, agencies, institutions, etc.</td>\n",
       "    </tr>\n",
       "    <tr>\n",
       "      <th>1</th>\n",
       "      <td>U.S.</td>\n",
       "      <td>GPE</td>\n",
       "      <td>Countries, cities, states</td>\n",
       "    </tr>\n",
       "    <tr>\n",
       "      <th>2</th>\n",
       "      <td>$2.3 billion</td>\n",
       "      <td>MONEY</td>\n",
       "      <td>Monetary values, including unit</td>\n",
       "    </tr>\n",
       "    <tr>\n",
       "      <th>3</th>\n",
       "      <td>December 2025</td>\n",
       "      <td>DATE</td>\n",
       "      <td>Absolute or relative dates or periods</td>\n",
       "    </tr>\n",
       "    <tr>\n",
       "      <th>4</th>\n",
       "      <td>Elon Musk</td>\n",
       "      <td>PERSON</td>\n",
       "      <td>People, including fictional</td>\n",
       "    </tr>\n",
       "    <tr>\n",
       "      <th>5</th>\n",
       "      <td>Tesla</td>\n",
       "      <td>ORG</td>\n",
       "      <td>Companies, agencies, institutions, etc.</td>\n",
       "    </tr>\n",
       "    <tr>\n",
       "      <th>6</th>\n",
       "      <td>Germany</td>\n",
       "      <td>GPE</td>\n",
       "      <td>Countries, cities, states</td>\n",
       "    </tr>\n",
       "  </tbody>\n",
       "</table>\n",
       "</div>"
      ],
      "text/plain": [
       "          Entity   Label                              Description\n",
       "0     Tesla Inc.     ORG  Companies, agencies, institutions, etc.\n",
       "1           U.S.     GPE                Countries, cities, states\n",
       "2   $2.3 billion   MONEY          Monetary values, including unit\n",
       "3  December 2025    DATE    Absolute or relative dates or periods\n",
       "4      Elon Musk  PERSON              People, including fictional\n",
       "5          Tesla     ORG  Companies, agencies, institutions, etc.\n",
       "6        Germany     GPE                Countries, cities, states"
      ]
     },
     "execution_count": 17,
     "metadata": {},
     "output_type": "execute_result"
    }
   ],
   "source": [
    "# ! pip install pandas\n",
    "import pandas as pd\n",
    "\n",
    "# Create dataframe of entities\n",
    "entity_data = [(ent.text, ent.label_, spacy.explain(ent.label_)) for ent in doc.ents]\n",
    "df = pd.DataFrame(entity_data, columns=[\"Entity\", \"Label\", \"Description\"])\n",
    "df"
   ]
  },
  {
   "cell_type": "markdown",
   "id": "dd6b22a8-fdf6-4bbe-81de-e31cf3b5bd72",
   "metadata": {},
   "source": [
    "# 🎨 Customizing spaCy Named Entity Visualization with displacy for Web Apps\n",
    "\n",
    "## 📌 Why Customize?\n",
    "\n",
    "spaCy’s `displacy` visualizer can render NER results as raw HTML. This is very useful when:\n",
    "- Embedding entity visualization in **web applications**\n",
    "- Styling the output to match your **brand/theme**\n",
    "- Exporting it into **HTML reports** or **dashboards**\n",
    "\n",
    "---\n",
    "\n",
    "## ✅ Step-by-Step Example\n",
    "\n",
    "### 🧪 Step 1: Load spaCy and Sample Text\n",
    "\n",
    "```python\n",
    "import spacy\n",
    "from spacy import displacy\n",
    "\n",
    "nlp = spacy.load(\"en_core_web_sm\")\n"
   ]
  },
  {
   "cell_type": "code",
   "execution_count": 19,
   "id": "17117d72-3dac-46e3-b117-da69fe4d5281",
   "metadata": {},
   "outputs": [],
   "source": [
    "text = \"\"\"\n",
    "Apple Inc. is planning to launch the iPhone 16 Pro Max in October 2025.\n",
    "The event will take place in California, and Tim Cook is expected to announce it.\n",
    "The phone is priced at $1299.\n",
    "\"\"\"\n",
    "\n",
    "doc = nlp(text)\n",
    "\n",
    "# Render and get HTML string instead of displaying\n",
    "# ✅ Key fix: Set jupyter=False to force HTML return even outside Jupyter\n",
    "html = displacy.render(doc, style=\"ent\", page=True, jupyter=False)  # page=True returns a full HTML page\n",
    "# jupyter=False: This crucial argument tells displacy.render to always return the HTML string, \n",
    "# regardless of whether it's running within a Jupyter notebook, a regular Python script, or an IDE.\n",
    "\n",
    "#print(html)"
   ]
  },
  {
   "cell_type": "code",
   "execution_count": 20,
   "id": "c452a934-bcae-43f8-848f-a593ea56b0a3",
   "metadata": {},
   "outputs": [
    {
     "name": "stdout",
     "output_type": "stream",
     "text": [
      "✅ NER visualization saved to ner_output.html\n"
     ]
    }
   ],
   "source": [
    "# Save the HTML to a file to view in browser\n",
    "with open(\"ner_output.html\", \"w\", encoding=\"utf-8\") as f:\n",
    "    f.write(html)\n",
    "\n",
    "print(\"✅ NER visualization saved to ner_output.html\")\n"
   ]
  },
  {
   "cell_type": "code",
   "execution_count": 21,
   "id": "91e35a85-8aa4-4d5a-93eb-15ae917b8db4",
   "metadata": {},
   "outputs": [
    {
     "name": "stdout",
     "output_type": "stream",
     "text": [
      "HTML type: <class 'str'>\n",
      "✅ Named Entity HTML saved to ner_output.html. Open it in browser.\n"
     ]
    }
   ],
   "source": [
    "import spacy\n",
    "from pathlib import Path\n",
    "import spacy.displacy as displacy  # ✅ This is key fix\n",
    "\n",
    "# Load model\n",
    "nlp = spacy.load(\"en_core_web_sm\")\n",
    "\n",
    "# Sample text\n",
    "text = \"Google was founded by Larry Page and Sergey Brin in California in 1998.\"\n",
    "\n",
    "# Process the doc\n",
    "doc = nlp(text)\n",
    "\n",
    "# ✅ Create HTML string\n",
    "html = displacy.render(doc, style=\"ent\", page=True,  jupyter=False)\n",
    "\n",
    "# ✅ Check what was returned\n",
    "print(\"HTML type:\", type(html))  # Should be <class 'str'>, not None\n",
    "\n",
    "# ✅ Save to file\n",
    "Path(\"ner_output.html\").write_text(html, encoding=\"utf-8\")\n",
    "\n",
    "print(\"✅ Named Entity HTML saved to ner_output.html. Open it in browser.\")\n"
   ]
  },
  {
   "cell_type": "markdown",
   "id": "20a3b5c9-65d2-4933-8086-8d1b601b51a4",
   "metadata": {},
   "source": [
    "# ✅ Copy-Paste Ready Python Helper Function"
   ]
  },
  {
   "cell_type": "code",
   "execution_count": 23,
   "id": "88567a72-da6c-4712-bece-a986e9bb4b05",
   "metadata": {},
   "outputs": [
    {
     "name": "stdout",
     "output_type": "stream",
     "text": [
      "✅ NER visualization saved to custom_ner_output.html\n"
     ]
    }
   ],
   "source": [
    "import spacy\n",
    "from spacy import displacy\n",
    "from pathlib import Path\n",
    "import webbrowser\n",
    "\n",
    "def save_ner_visualization(\n",
    "    text,\n",
    "    model=\"en_core_web_sm\",\n",
    "    filename=\"ner_output.html\",\n",
    "    custom_colors=None,\n",
    "    labels=None,\n",
    "    open_in_browser=True\n",
    "):\n",
    "    \"\"\"\n",
    "    Render and save NER visualization using spaCy and displacy.\n",
    "\n",
    "    Parameters:\n",
    "        text (str): Input text to analyze.\n",
    "        model (str): spaCy language model to use.\n",
    "        filename (str): Output HTML filename.\n",
    "        custom_colors (dict): Optional color overrides per entity label.\n",
    "        labels (list): List of entity labels to highlight (e.g., [\"PERSON\", \"ORG\"]).\n",
    "        open_in_browser (bool): Whether to auto-open saved HTML in browser.\n",
    "    \"\"\"\n",
    "    nlp = spacy.load(model)\n",
    "    doc = nlp(text)\n",
    "\n",
    "    options = {}\n",
    "    if custom_colors:\n",
    "        options[\"colors\"] = custom_colors\n",
    "    if labels:\n",
    "        options[\"ents\"] = labels\n",
    "\n",
    "    html = displacy.render(doc, style=\"ent\", page=True, jupyter=False, options=options)\n",
    "\n",
    "    # Save to file\n",
    "    Path(filename).write_text(html, encoding=\"utf-8\")\n",
    "    print(f\"✅ NER visualization saved to {filename}\")\n",
    "\n",
    "    # Open in browser\n",
    "    if open_in_browser:\n",
    "        webbrowser.open(Path(filename).absolute().as_uri())\n",
    "\n",
    "# 🧪 Example usage\n",
    "sample_text = \"Google acquired DeepMind in London for $500 million in 2014. Sundar Pichai confirmed it.\"\n",
    "\n",
    "custom_colors = {\n",
    "    \"ORG\": \"#ffd700\",\n",
    "    \"GPE\": \"#87ceeb\",\n",
    "    \"MONEY\": \"#90ee90\",\n",
    "    \"PERSON\": \"#fa8072\",\n",
    "    \"DATE\": \"#ffb6c1\"\n",
    "}\n",
    "\n",
    "save_ner_visualization(\n",
    "    text=sample_text,\n",
    "    filename=\"custom_ner_output.html\",\n",
    "    custom_colors=custom_colors,\n",
    "    labels=[\"ORG\", \"GPE\", \"MONEY\", \"PERSON\", \"DATE\"],\n",
    "    open_in_browser=True\n",
    ")\n"
   ]
  },
  {
   "cell_type": "code",
   "execution_count": null,
   "id": "67578ee7-0057-4911-9d14-e022e054a897",
   "metadata": {},
   "outputs": [],
   "source": []
  }
 ],
 "metadata": {
  "kernelspec": {
   "display_name": "Python [conda env:nlp-env]",
   "language": "python",
   "name": "conda-env-nlp-env-py"
  },
  "language_info": {
   "codemirror_mode": {
    "name": "ipython",
    "version": 3
   },
   "file_extension": ".py",
   "mimetype": "text/x-python",
   "name": "python",
   "nbconvert_exporter": "python",
   "pygments_lexer": "ipython3",
   "version": "3.10.18"
  }
 },
 "nbformat": 4,
 "nbformat_minor": 5
}
