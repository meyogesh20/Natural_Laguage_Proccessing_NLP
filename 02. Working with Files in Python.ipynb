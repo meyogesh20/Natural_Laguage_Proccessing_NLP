{
 "cells": [
  {
   "cell_type": "markdown",
   "id": "ddb5213b-a6fc-427a-8c37-d7beac9f8414",
   "metadata": {},
   "source": [
    "# Working with Text files in Python."
   ]
  },
  {
   "cell_type": "markdown",
   "id": "7eba8e07-e512-4b80-9d91-f5bb19cbdd9c",
   "metadata": {},
   "source": [
    "> **Magic command** that works only in **Jupyter Notebook** to quickly create and write in txt file.\n",
    "> The file will be created at the same location of this jupyter notebook.\n",
    "```python\n",
    "%%writefile test.txt\n",
    "Hello, this is the quick test file.\n",
    "The content below command will be file content.\n",
    "```"
   ]
  },
  {
   "cell_type": "code",
   "execution_count": 35,
   "id": "ff63020f-8302-4a7e-a314-d357bb3335fc",
   "metadata": {},
   "outputs": [
    {
     "ename": "FileNotFoundError",
     "evalue": "[Errno 2] No such file or directory: 'whoops.txt'",
     "output_type": "error",
     "traceback": [
      "\u001b[1;31m---------------------------------------------------------------------------\u001b[0m",
      "\u001b[1;31mFileNotFoundError\u001b[0m                         Traceback (most recent call last)",
      "Cell \u001b[1;32mIn[35], line 2\u001b[0m\n\u001b[0;32m      1\u001b[0m \u001b[38;5;66;03m# If provided wrong path or filename, it will raise an Error - FileNotFoundError\u001b[39;00m\n\u001b[1;32m----> 2\u001b[0m myfile \u001b[38;5;241m=\u001b[39m \u001b[38;5;28mopen\u001b[39m(\u001b[38;5;124m\"\u001b[39m\u001b[38;5;124mwhoops.txt\u001b[39m\u001b[38;5;124m\"\u001b[39m)\n",
      "File \u001b[1;32m~\\anaconda3\\Lib\\site-packages\\IPython\\core\\interactiveshell.py:324\u001b[0m, in \u001b[0;36m_modified_open\u001b[1;34m(file, *args, **kwargs)\u001b[0m\n\u001b[0;32m    317\u001b[0m \u001b[38;5;28;01mif\u001b[39;00m file \u001b[38;5;129;01min\u001b[39;00m {\u001b[38;5;241m0\u001b[39m, \u001b[38;5;241m1\u001b[39m, \u001b[38;5;241m2\u001b[39m}:\n\u001b[0;32m    318\u001b[0m     \u001b[38;5;28;01mraise\u001b[39;00m \u001b[38;5;167;01mValueError\u001b[39;00m(\n\u001b[0;32m    319\u001b[0m         \u001b[38;5;124mf\u001b[39m\u001b[38;5;124m\"\u001b[39m\u001b[38;5;124mIPython won\u001b[39m\u001b[38;5;124m'\u001b[39m\u001b[38;5;124mt let you open fd=\u001b[39m\u001b[38;5;132;01m{\u001b[39;00mfile\u001b[38;5;132;01m}\u001b[39;00m\u001b[38;5;124m by default \u001b[39m\u001b[38;5;124m\"\u001b[39m\n\u001b[0;32m    320\u001b[0m         \u001b[38;5;124m\"\u001b[39m\u001b[38;5;124mas it is likely to crash IPython. If you know what you are doing, \u001b[39m\u001b[38;5;124m\"\u001b[39m\n\u001b[0;32m    321\u001b[0m         \u001b[38;5;124m\"\u001b[39m\u001b[38;5;124myou can use builtins\u001b[39m\u001b[38;5;124m'\u001b[39m\u001b[38;5;124m open.\u001b[39m\u001b[38;5;124m\"\u001b[39m\n\u001b[0;32m    322\u001b[0m     )\n\u001b[1;32m--> 324\u001b[0m \u001b[38;5;28;01mreturn\u001b[39;00m io_open(file, \u001b[38;5;241m*\u001b[39margs, \u001b[38;5;241m*\u001b[39m\u001b[38;5;241m*\u001b[39mkwargs)\n",
      "\u001b[1;31mFileNotFoundError\u001b[0m: [Errno 2] No such file or directory: 'whoops.txt'"
     ]
    }
   ],
   "source": [
    "# If provided wrong path or filename, it will raise an Error - FileNotFoundError\n",
    "myfile = open(\"whoops.txt\")"
   ]
  },
  {
   "cell_type": "markdown",
   "id": "99c28699-6f38-49fd-a746-c6656dde5429",
   "metadata": {},
   "source": [
    "### KNOW YOUR CURRENT DIRECTORY LOCATION"
   ]
  },
  {
   "cell_type": "code",
   "execution_count": 37,
   "id": "e0c02e94-e382-4480-a808-4540ac82c33a",
   "metadata": {},
   "outputs": [
    {
     "data": {
      "text/plain": [
       "'C:\\\\Users\\\\meyog\\\\NLP-Natural_Language_Processing'"
      ]
     },
     "execution_count": 37,
     "metadata": {},
     "output_type": "execute_result"
    }
   ],
   "source": [
    "pwd"
   ]
  },
  {
   "cell_type": "code",
   "execution_count": 39,
   "id": "ff0b328d-8315-4c28-821a-4ebdfb5bb7da",
   "metadata": {},
   "outputs": [],
   "source": [
    "myfile = open(\"test.txt\")"
   ]
  },
  {
   "cell_type": "code",
   "execution_count": 41,
   "id": "8fb5c7f5-28ff-4094-a49e-bb5708460423",
   "metadata": {},
   "outputs": [
    {
     "data": {
      "text/plain": [
       "'Hello, this is the quick test file.\\nThe content below command will be file content.\\n'"
      ]
     },
     "execution_count": 41,
     "metadata": {},
     "output_type": "execute_result"
    }
   ],
   "source": [
    "myfile.read()"
   ]
  },
  {
   "cell_type": "markdown",
   "id": "8ad71d1f-d800-4386-ad5e-8f1c62e8c523",
   "metadata": {},
   "source": [
    "## We can't read same file object multiple time."
   ]
  },
  {
   "cell_type": "code",
   "execution_count": 43,
   "id": "f0fb6da2-96d8-44ae-8939-11b00715b430",
   "metadata": {},
   "outputs": [
    {
     "data": {
      "text/plain": [
       "''"
      ]
     },
     "execution_count": 43,
     "metadata": {},
     "output_type": "execute_result"
    }
   ],
   "source": [
    "myfile.read()"
   ]
  },
  {
   "cell_type": "markdown",
   "id": "cc022457-2213-43e4-a143-d03cb13d89ab",
   "metadata": {},
   "source": [
    "## We are getting empty string because cursor is at the EOF after reading it.\n",
    "### To reset the cursor at 0 position or start of the file, use below command."
   ]
  },
  {
   "cell_type": "code",
   "execution_count": 45,
   "id": "c07c7c93-e94e-4678-bcda-03531e53c733",
   "metadata": {},
   "outputs": [
    {
     "data": {
      "text/plain": [
       "0"
      ]
     },
     "execution_count": 45,
     "metadata": {},
     "output_type": "execute_result"
    }
   ],
   "source": [
    "myfile.seek(0)"
   ]
  },
  {
   "cell_type": "code",
   "execution_count": 47,
   "id": "07c11e1f-cef4-4cd2-9c91-b794c7e67c18",
   "metadata": {},
   "outputs": [
    {
     "data": {
      "text/plain": [
       "'Hello, this is the quick test file.\\n'"
      ]
     },
     "execution_count": 47,
     "metadata": {},
     "output_type": "execute_result"
    }
   ],
   "source": [
    "myfile.readline()"
   ]
  },
  {
   "cell_type": "markdown",
   "id": "cb792419-87c7-437a-adf5-1be5563faf48",
   "metadata": {},
   "source": [
    "# Now we are able to read first line of the file."
   ]
  },
  {
   "cell_type": "code",
   "execution_count": 49,
   "id": "bcd13ca4-34df-472b-972f-32b8cffe12ab",
   "metadata": {},
   "outputs": [
    {
     "data": {
      "text/plain": [
       "'The content below command will be file content.\\n'"
      ]
     },
     "execution_count": 49,
     "metadata": {},
     "output_type": "execute_result"
    }
   ],
   "source": [
    "content = myfile.read()\n",
    "content"
   ]
  },
  {
   "cell_type": "markdown",
   "id": "e97e0369-889e-45df-aa53-257cc62a513a",
   "metadata": {},
   "source": [
    " ### We can see that cursor was at the second line and Hence the output printed is excluding first line.\n",
    " #### Make sure you close the file object once you're done with your work."
   ]
  },
  {
   "cell_type": "code",
   "execution_count": 51,
   "id": "e1993597-827b-4662-bfdd-9f9f626a3246",
   "metadata": {},
   "outputs": [],
   "source": [
    "myfile.close()"
   ]
  },
  {
   "cell_type": "markdown",
   "id": "f9284a1d-45b2-4edb-9340-b92a69a88274",
   "metadata": {},
   "source": [
    "### Readlines methods read the file and create list of strings converting each line as list item."
   ]
  },
  {
   "cell_type": "code",
   "execution_count": 53,
   "id": "5a2d8cd3-56d2-4e22-a19e-98d7948b5e62",
   "metadata": {},
   "outputs": [
    {
     "name": "stdout",
     "output_type": "stream",
     "text": [
      "['Hello, this is the quick test file.\\n', 'The content below command will be file content.\\n']\n",
      "-----------------------------------------------------------------------\n",
      "line- : Hello, this is the quick test file.\n",
      "\n",
      "line- : The content below command will be file content.\n",
      "\n"
     ]
    }
   ],
   "source": [
    "myfile = open(\"test.txt\")\n",
    "content = myfile.readlines()\n",
    "print(content)\n",
    "print(\"-----------------------------------------------------------------------\")\n",
    "for line in content:\n",
    "    print(\"line- : \"+line)\n",
    "\n",
    "myfile.close()"
   ]
  },
  {
   "cell_type": "markdown",
   "id": "00666273-ebe4-45cc-8e1f-ad03a815b56d",
   "metadata": {},
   "source": [
    "# with - context manager method to automatic closing file after use."
   ]
  },
  {
   "cell_type": "code",
   "execution_count": 55,
   "id": "e6896a77-f187-479d-9cb8-0b8c71a052dd",
   "metadata": {},
   "outputs": [
    {
     "name": "stdout",
     "output_type": "stream",
     "text": [
      "Hello, this is the quick test file.\n",
      "The content below command will be file content.\n",
      "\n"
     ]
    }
   ],
   "source": [
    "with open(\"test.txt\") as myfile :\n",
    "    print(myfile.read())\n",
    "    "
   ]
  },
  {
   "cell_type": "markdown",
   "id": "755f585a-bf8c-4a51-aed8-7c8644239ffc",
   "metadata": {},
   "source": [
    "# Working with PDF Files\n",
    "\n",
    "- Often you will have to deal with PDF files. \n",
    "- There are [many libraries in Python for working with PDFs](https://www.binpress.com/tutorial/manipulating-pdfs-with-python/167)\n",
    "- each with their pros and cons, the most common one being **pypdf**.\n",
    "- [pypdf installation Document](https://pypdf.readthedocs.io/en/stable/user/installation.html) \n",
    "\n",
    "  <code>pip install pypdf</code>\n",
    "    \n",
    "- Keep in mind that not every PDF file can be read with this library.\n",
    "- PDFs that are too blurry, have a special encoding, encrypted, or maybe just created with a particular program that doesn't work well with **pypdf** won't be able to be read.\n",
    "- If you find yourself in this situation, try using the libraries linked above, but keep in mind, these may also not work. The reason for this is because of the many different parameters for a PDF and how non-standard the settings can be, text could be shown as an image instead of a utf-8 encoding. There are many parameters to consider in this aspect.\n",
    "\n",
    "- As far as pypdf is concerned, it can only read the text from a PDF document, it won't be able to grab images or other media files from a PDF.\n",
    "\n",
    "---\n",
    "\n",
    "## Working with pypdf"
   ]
  },
  {
   "cell_type": "code",
   "execution_count": 3,
   "id": "c43f69e9-2846-41bc-b010-eb5a900138da",
   "metadata": {},
   "outputs": [
    {
     "name": "stdout",
     "output_type": "stream",
     "text": [
      "Requirement already satisfied: pypdf in c:\\users\\meyog\\anaconda3\\lib\\site-packages (4.2.0)\n",
      "Collecting pypdf\n",
      "  Using cached pypdf-5.7.0-py3-none-any.whl.metadata (7.2 kB)\n",
      "Using cached pypdf-5.7.0-py3-none-any.whl (305 kB)\n",
      "Installing collected packages: pypdf\n",
      "  Attempting uninstall: pypdf\n",
      "    Found existing installation: pypdf 4.2.0\n",
      "    Uninstalling pypdf-4.2.0:\n",
      "      Successfully uninstalled pypdf-4.2.0\n",
      "Successfully installed pypdf-5.7.0\n",
      "Note: you may need to restart the kernel to use updated packages.\n"
     ]
    }
   ],
   "source": [
    "pip install --upgrade pypdf"
   ]
  },
  {
   "cell_type": "code",
   "execution_count": 9,
   "id": "2f5848d8-058e-4ff8-8848-52bdcf0b64ef",
   "metadata": {},
   "outputs": [
    {
     "name": "stdout",
     "output_type": "stream",
     "text": [
      "Requirement already satisfied: pyopenssl in c:\\users\\meyog\\anaconda3\\lib\\site-packages (24.2.1)\n",
      "Collecting pyopenssl\n",
      "  Downloading pyopenssl-25.1.0-py3-none-any.whl.metadata (17 kB)\n",
      "Requirement already satisfied: cryptography<46,>=41.0.5 in c:\\users\\meyog\\anaconda3\\lib\\site-packages (from pyopenssl) (45.0.5)\n",
      "Requirement already satisfied: typing-extensions>=4.9 in c:\\users\\meyog\\anaconda3\\lib\\site-packages (from pyopenssl) (4.11.0)\n",
      "Requirement already satisfied: cffi>=1.14 in c:\\users\\meyog\\anaconda3\\lib\\site-packages (from cryptography<46,>=41.0.5->pyopenssl) (1.17.1)\n",
      "Requirement already satisfied: pycparser in c:\\users\\meyog\\anaconda3\\lib\\site-packages (from cffi>=1.14->cryptography<46,>=41.0.5->pyopenssl) (2.21)\n",
      "Downloading pyopenssl-25.1.0-py3-none-any.whl (56 kB)\n",
      "Installing collected packages: pyopenssl\n",
      "  Attempting uninstall: pyopenssl\n",
      "    Found existing installation: pyOpenSSL 24.2.1\n",
      "    Uninstalling pyOpenSSL-24.2.1:\n",
      "      Successfully uninstalled pyOpenSSL-24.2.1\n",
      "Successfully installed pyopenssl-25.1.0\n",
      "Note: you may need to restart the kernel to use updated packages.\n"
     ]
    }
   ],
   "source": [
    "pip install --upgrade pyopenssl"
   ]
  },
  {
   "cell_type": "code",
   "execution_count": 11,
   "id": "f76254f7-359b-4e9a-94da-6be8291df81e",
   "metadata": {},
   "outputs": [
    {
     "name": "stdout",
     "output_type": "stream",
     "text": [
      "Requirement already satisfied: pypdf in c:\\users\\meyog\\anaconda3\\lib\\site-packages (5.7.0)\n",
      "Requirement already satisfied: cryptography in c:\\users\\meyog\\anaconda3\\lib\\site-packages (45.0.5)\n",
      "Requirement already satisfied: cffi>=1.14 in c:\\users\\meyog\\anaconda3\\lib\\site-packages (from cryptography) (1.17.1)\n",
      "Requirement already satisfied: pycparser in c:\\users\\meyog\\anaconda3\\lib\\site-packages (from cffi>=1.14->cryptography) (2.21)\n",
      "Note: you may need to restart the kernel to use updated packages.\n"
     ]
    }
   ],
   "source": [
    "pip install pypdf cryptography"
   ]
  },
  {
   "cell_type": "code",
   "execution_count": 3,
   "id": "9a956168-0cbc-4d81-9966-b78e08c0c6c1",
   "metadata": {},
   "outputs": [],
   "source": [
    "from pypdf import PdfReader\n",
    "\n",
    "reader = PdfReader(r\"D:\\Yogesh\\Expleo\\QA - Testing\\QA_Testing-Interview Question.pdf\")\n",
    "number_of_pages = len(reader.pages)\n",
    "page = reader.pages[0]\n",
    "text = page.extract_text()"
   ]
  },
  {
   "cell_type": "code",
   "execution_count": 5,
   "id": "45a3bc9b-d6f7-4557-8449-dfef23d73ab7",
   "metadata": {},
   "outputs": [
    {
     "name": "stdout",
     "output_type": "stream",
     "text": [
      "40\n"
     ]
    }
   ],
   "source": [
    "print(number_of_pages)"
   ]
  },
  {
   "cell_type": "code",
   "execution_count": 15,
   "id": "8d06b52e-ace7-42a0-a495-da520abed200",
   "metadata": {},
   "outputs": [
    {
     "name": "stdout",
     "output_type": "stream",
     "text": [
      "Most asked Interview Question  \n",
      "1. What is Quality Assurance (QA)? \n",
      "• QA is a systematic process to ensure that software products meet specified \n",
      "quality standards and requirements. For example, testing a mobile app to ensure \n",
      "all functionalities work correctly before release. \n",
      "2. What is the software testing life cycle? \n",
      "• The software testing life cycle includes phases such as requirements analysis, \n",
      "test planning, test case development, test environment setup, test execution, \n",
      "defect reporting, and test closure. \n",
      "3. Can you explain the difference between manual testing and automated testing? \n",
      "• Manual testing involves human testers executing test cases without automation \n",
      "tools, while automated testing uses software tools to run tests automatically, \n",
      "increasing efficiency and coverage. \n",
      "4. What are some common automation testing tools you have used? \n",
      "• I have experience with Selenium, TestNG, JUnit, Cucumber, and Appium, among \n",
      "others. \n",
      "5. When would you choose to automate a test? \n",
      "• I would automate tests for repetitive tasks, regression tests, and tests that \n",
      "require high precision or need to be executed frequently. \n",
      "6. What is a test script? \n",
      "• A test script is a set of instructions that automate the execution of a test case, \n",
      "often written in a programming language compatible with the automation tool \n",
      "being used. \n",
      "7. How do you select an automation testing tool? \n",
      "• I consider factors such as the application type, team expertise, budget, and the \n",
      "tool's compatibility with existing systems. \n",
      "8. What is a test automation framework? \n",
      "• A test automation framework is a set of guidelines, best practices, and tools that \n",
      "provide a structured approach to automate testing. \n",
      "9. Can you explain the concept of the test automation pyramid? \n",
      "• The test automation pyramid suggests having a larger number of unit tests at the \n",
      "base, fewer integration tests in the middle, and the least number of end-to-end \n",
      "tests at the top, promoting efficient testing. \n",
      "10. What is regression testing? \n"
     ]
    }
   ],
   "source": [
    "print(text)"
   ]
  },
  {
   "cell_type": "code",
   "execution_count": 23,
   "id": "5aa73289-e74c-4303-8040-d52b68b7c6f9",
   "metadata": {},
   "outputs": [
    {
     "name": "stdout",
     "output_type": "stream",
     "text": [
      "['Career Objective:To give my best in my professional pursuit for overallbenefit and growth of the company that I serve by facing the challenges. Iwill show my caliber and gain some experience.\\uf06eWork History:A] Designation:Production Team LeaderCompany Name:SS Eduks Management Consultants Ltd.Duration:27th Sept 2021 to 7th March 2022Profile Summary:\\uf0fcPlanning assigning and directing production work.\\uf0fcConducted Daily Team Meetings. Prepared production report.\\uf0fcCalculation of Daily Production Losses, OLE & OEE Calculations.B] Designation:Graduate Engineer TraineeCompany Name:Bajaj Electricals Ltd. Chakan, Pune (Maharashtra)Duration:14th Aug 2019 to 13th Aug 2021Profile Summary:\\uf0fcSupervised all the production phases of stator assembly for fan production\\uf0fcSet and revised production schedules to meet changing demands.\\uf0fcEvaluated manpower skills and knowledge regularly.C] Designation:BPO-I (Content Writer)Company Name:TTEC India, Ahmedabad (Gujarat)Duration:15th June 2018 to 8th Feb 2019Profile Summary:\\uf0fcUtilized exceptional writing, editing and proofreading skills to produce engagingand error-free content.\\uf0fcDelivered exceptional level of service to each customer by listening to concernsand answering questions.\\nYOGESH MAHAJANProduction Team LeaderMobile No.:+91-9637320815Email:meyogesh20@gmail.com\\n', '\\uf06eEducational Qualification:QualificationUniversity/BoardInstitute/College NameCGPAor %Year ofPassingB.E. MechanicalNorth MaharashtraUniversity, JalgaonRCPIT, ShirpurDist.Dhule7.51CGPA2018Diploma inMechanicalMSBTE, MumbaiSSVPS B. S. DeorePolytechnic,Dhule78.65%2015SSCState Board,MaharashtraMadhyamik Vidyalaya,Khedgaon85.27%2012\\uf06eAcademic Project:Course:BE MechanicalProject Duration :12 MonthProject Title :Design And Fabrication Of 6-Way Drilling MachinePlatform :AutoCad, SolidWork, Mechanical DesignDescription: The Conventional drill machine involves tedious work whileadjustment of drill table during job holding, also there is problem while drill aninclined hole. Design and fabrication of 6-ways drilling machine table with auto feeddrill machine which is capable of drilling straight as well as inclined hole and reducesthe man power and efforts in drilling operation. It has two main parts first is drill head& another is drill table.---------------------------------------------------------------------------------------------------------------------------------------------------------Course:Diploma in Mechanical Engg.Project Duration :6 MonthProject Title :Design and fabrication of Geneva Based Auto Roll Punching MachingDescription: On the conventional punching machine the time required for job setting,marking, punching operation is more. Auto Roll Punching Machine using Genevamechanism is specially designed for automatic punching in metal sheet which reducesoverall time and cost which is high in case of conventional drilling operation. Themajor components involved in Auto Roll Punching Machine are DC motor, camarrangement, chain drive, Geneva mechanism and punching tool.---------------------------------------------------------------------------------------------------------------------------------------------------------\\uf06eHobbies:i. Exercise and Workout ii. Listening to Musicii. Watching Movies', '\\uf06eCertificationsi. Master certificate course in Product Design, IGTR Aurangabad (2021)ii. Course on Basic to Advanced Excel training (BizWiz-2022)iii. English Typing Course - 60 WPM (Ratatyping.com)\\uf06eStrengths:i. I have very good learning ability and convert them into action.ii. Confident and Determined.iii. Ability to cope up with different situations.\\uf06eHobbies:i. Exercise and Workoutii. Watching Moviesiii. Listening to Music\\uf06ePersonal Information:Name:Mahajan Yogesh VishvasDate of Birth:20thSept 1996Gender:MaleMarital Status:UnmarriedLanguage Known:English, Hindi, MarathiPermanent Address:At Post- Khedgaon Tal- Chalisgaon Dist-Jalgaon(MH)Pin - 424107---------------------------------------------------------------------------------------------------------------------------------------------------------Declaration: I do hereby declare that all the details furnished above are true to thebest of my knowledge and I bear the responsibility for the correctness of abovementioned particular.Place:SignatureDate: / /2022(Yogesh Vishvas Mahajan)\\n\\uf06ePersonal Skills:i. Leadership & Team workii. Social Adaptabilityiii. Liveliness, Dynamism']\n"
     ]
    }
   ],
   "source": [
    "# Let's grab all the text from \n",
    "resume = PdfReader(\"Yogesh_Mahajan_Production_TeamLead.pdf\")\n",
    "list_page = []\n",
    "for num in range(len(resume.pages)) :\n",
    "    page = resume.pages[num]\n",
    "    list_page.append(page.extract_text())\n",
    "\n",
    "print(list_page)\n",
    "    "
   ]
  },
  {
   "cell_type": "code",
   "execution_count": 33,
   "id": "d52321c0-8612-4adf-b2ad-06d8d9179a9c",
   "metadata": {},
   "outputs": [
    {
     "name": "stdout",
     "output_type": "stream",
     "text": [
      "Certificationsi. Master certificate course in Product Design, IGTR Aurangabad (2021)ii. Course on Basic to Advanced Excel training (BizWiz-2022)iii. English Typing Course - 60 WPM (Ratatyping.com)Strengths:i. I have very good learning ability and convert them into action.ii. Confident and Determined.iii. Ability to cope up with different situations.Hobbies:i. Exercise and Workoutii. Watching Moviesiii. Listening to MusicPersonal Information:Name:Mahajan Yogesh VishvasDate of Birth:20thSept 1996Gender:MaleMarital Status:UnmarriedLanguage Known:English, Hindi, MarathiPermanent Address:At Post- Khedgaon Tal- Chalisgaon Dist-Jalgaon(MH)Pin - 424107---------------------------------------------------------------------------------------------------------------------------------------------------------Declaration: I do hereby declare that all the details furnished above are true to thebest of my knowledge and I bear the responsibility for the correctness of abovementioned particular.Place:SignatureDate: / /2022(Yogesh Vishvas Mahajan)\n",
      "Personal Skills:i. Leadership & Team workii. Social Adaptabilityiii. Liveliness, Dynamism\n"
     ]
    }
   ],
   "source": [
    "#print last page \n",
    "print(list_page[-1])"
   ]
  }
 ],
 "metadata": {
  "kernelspec": {
   "display_name": "Python [conda env:base] *",
   "language": "python",
   "name": "conda-base-py"
  },
  "language_info": {
   "codemirror_mode": {
    "name": "ipython",
    "version": 3
   },
   "file_extension": ".py",
   "mimetype": "text/x-python",
   "name": "python",
   "nbconvert_exporter": "python",
   "pygments_lexer": "ipython3",
   "version": "3.12.7"
  }
 },
 "nbformat": 4,
 "nbformat_minor": 5
}
